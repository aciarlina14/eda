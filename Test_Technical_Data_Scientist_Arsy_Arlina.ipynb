{
  "nbformat": 4,
  "nbformat_minor": 0,
  "metadata": {
    "colab": {
      "provenance": [],
      "toc_visible": true
    },
    "kernelspec": {
      "name": "python3",
      "display_name": "Python 3"
    },
    "language_info": {
      "name": "python"
    },
    "gpuClass": "standard"
  },
  "cells": [
    {
      "cell_type": "markdown",
      "source": [
        "This created by:\n",
        "\n",
        "Arsy Arlina\n",
        "\n",
        "arsyarlina96@gmail.com\n",
        "\n",
        "+62812-8310-9181"
      ],
      "metadata": {
        "id": "hwXl2rwckjqY"
      }
    },
    {
      "cell_type": "markdown",
      "source": [
        "# Several Packages to Load"
      ],
      "metadata": {
        "id": "M_yTnwAq7ej-"
      }
    },
    {
      "cell_type": "code",
      "execution_count": 1,
      "metadata": {
        "id": "takwd810dkk_"
      },
      "outputs": [],
      "source": [
        "#Several packages to load\n",
        "import pandas as pd, matplotlib.pyplot as plt, numpy as np\n",
        "import seaborn as sns\n",
        "from sklearn import preprocessing\n",
        "from sklearn.model_selection import train_test_split\n",
        "from sklearn.ensemble import RandomForestRegressor\n",
        "from sklearn.metrics import mean_squared_error"
      ]
    },
    {
      "cell_type": "markdown",
      "source": [
        "# Run Data from Github"
      ],
      "metadata": {
        "id": "qXBjh9wv7xEC"
      }
    },
    {
      "cell_type": "code",
      "source": [
        "# You can Run data without download file\n",
        "try:\n",
        "    # Running Locally \n",
        "    df = pd.read_csv('data/Hotel_Reservations.csv')\n",
        "except:\n",
        "    # Running in Google Colab\n",
        "    !mkdir data\n",
        "    !wget -P data/ https://raw.githubusercontent.com/aciarlina14/eda/main/Hotel_Reservations.csv\n",
        "    df = pd.read_csv('data/Hotel_Reservations.csv')"
      ],
      "metadata": {
        "id": "kICtG9UAeh2K"
      },
      "execution_count": 2,
      "outputs": []
    },
    {
      "cell_type": "markdown",
      "source": [
        "# 1. Data Exploration"
      ],
      "metadata": {
        "id": "MWNGeUUHDk5j"
      }
    },
    {
      "cell_type": "code",
      "source": [
        "#checking the shape ( rows and column numbers)\n",
        "print(f' We have total {df.shape[0]} rows and {df.shape[1]} columns.')"
      ],
      "metadata": {
        "colab": {
          "base_uri": "https://localhost:8080/"
        },
        "id": "cYHQz_AaGsfg",
        "outputId": "6f68a658-86b2-4a73-c42d-5f7c518bdfd0"
      },
      "execution_count": 3,
      "outputs": [
        {
          "output_type": "stream",
          "name": "stdout",
          "text": [
            " We have total 36275 rows and 19 columns.\n"
          ]
        }
      ]
    },
    {
      "cell_type": "code",
      "source": [
        "# Checking random sampling rows of data\n",
        "df.sample(10)"
      ],
      "metadata": {
        "colab": {
          "base_uri": "https://localhost:8080/",
          "height": 427
        },
        "id": "WWvLacBJG5p8",
        "outputId": "c9b83696-2639-4f6e-953b-c5f6461b6d6d"
      },
      "execution_count": 4,
      "outputs": [
        {
          "output_type": "execute_result",
          "data": {
            "text/plain": [
              "      Booking_ID  no_of_adults  no_of_children  no_of_weekend_nights  \\\n",
              "7003    INN07004             1               0                     0   \n",
              "15783   INN15784             2               0                     2   \n",
              "6719    INN06720             2               0                     0   \n",
              "17686   INN17687             1               1                     2   \n",
              "30415   INN30416             2               0                     1   \n",
              "6276    INN06277             2               0                     0   \n",
              "2457    INN02458             1               0                     0   \n",
              "25357   INN25358             2               0                     2   \n",
              "5554    INN05555             2               0                     0   \n",
              "4732    INN04733             2               0                     0   \n",
              "\n",
              "       no_of_week_nights type_of_meal_plan  required_car_parking_space  \\\n",
              "7003                   1       Meal Plan 1                           0   \n",
              "15783                  5       Meal Plan 1                           0   \n",
              "6719                   3       Meal Plan 1                           0   \n",
              "17686                  4       Meal Plan 1                           0   \n",
              "30415                  1       Meal Plan 1                           0   \n",
              "6276                   3       Meal Plan 1                           0   \n",
              "2457                   1       Meal Plan 1                           0   \n",
              "25357                  3       Meal Plan 1                           0   \n",
              "5554                   3       Meal Plan 1                           0   \n",
              "4732                   1      Not Selected                           0   \n",
              "\n",
              "      room_type_reserved  lead_time  arrival_year  arrival_month  \\\n",
              "7003         Room_Type 1         84          2018              9   \n",
              "15783        Room_Type 4        176          2018              8   \n",
              "6719         Room_Type 1          9          2018              4   \n",
              "17686        Room_Type 1         22          2018              2   \n",
              "30415        Room_Type 1          3          2018              8   \n",
              "6276         Room_Type 1         41          2018              3   \n",
              "2457         Room_Type 1         12          2017             11   \n",
              "25357        Room_Type 4         59          2018              9   \n",
              "5554         Room_Type 1         19          2017             10   \n",
              "4732         Room_Type 1          0          2018              6   \n",
              "\n",
              "       arrival_date market_segment_type  repeated_guest  \\\n",
              "7003              7           Corporate               1   \n",
              "15783             8              Online               0   \n",
              "6719             27              Online               0   \n",
              "17686            13              Online               0   \n",
              "30415            13              Online               0   \n",
              "6276             10              Online               0   \n",
              "2457             25           Corporate               1   \n",
              "25357             2              Online               0   \n",
              "5554              6             Offline               1   \n",
              "4732              1              Online               0   \n",
              "\n",
              "       no_of_previous_cancellations  no_of_previous_bookings_not_canceled  \\\n",
              "7003                              3                                    14   \n",
              "15783                             0                                     0   \n",
              "6719                              0                                     0   \n",
              "17686                             0                                     0   \n",
              "30415                             0                                     0   \n",
              "6276                              0                                     0   \n",
              "2457                              0                                     1   \n",
              "25357                             0                                     0   \n",
              "5554                              1                                     0   \n",
              "4732                              0                                     0   \n",
              "\n",
              "       avg_price_per_room  no_of_special_requests booking_status  \n",
              "7003                65.00                       0   Not_Canceled  \n",
              "15783              112.20                       1       Canceled  \n",
              "6719               131.00                       1   Not_Canceled  \n",
              "17686               91.00                       0   Not_Canceled  \n",
              "30415              207.00                       0       Canceled  \n",
              "6276                83.90                       1   Not_Canceled  \n",
              "2457                65.00                       0   Not_Canceled  \n",
              "25357              120.96                       1       Canceled  \n",
              "5554                90.00                       0   Not_Canceled  \n",
              "4732               116.10                       1   Not_Canceled  "
            ],
            "text/html": [
              "\n",
              "  <div id=\"df-87b9b396-bb2e-4fed-835a-c8595f033ae8\">\n",
              "    <div class=\"colab-df-container\">\n",
              "      <div>\n",
              "<style scoped>\n",
              "    .dataframe tbody tr th:only-of-type {\n",
              "        vertical-align: middle;\n",
              "    }\n",
              "\n",
              "    .dataframe tbody tr th {\n",
              "        vertical-align: top;\n",
              "    }\n",
              "\n",
              "    .dataframe thead th {\n",
              "        text-align: right;\n",
              "    }\n",
              "</style>\n",
              "<table border=\"1\" class=\"dataframe\">\n",
              "  <thead>\n",
              "    <tr style=\"text-align: right;\">\n",
              "      <th></th>\n",
              "      <th>Booking_ID</th>\n",
              "      <th>no_of_adults</th>\n",
              "      <th>no_of_children</th>\n",
              "      <th>no_of_weekend_nights</th>\n",
              "      <th>no_of_week_nights</th>\n",
              "      <th>type_of_meal_plan</th>\n",
              "      <th>required_car_parking_space</th>\n",
              "      <th>room_type_reserved</th>\n",
              "      <th>lead_time</th>\n",
              "      <th>arrival_year</th>\n",
              "      <th>arrival_month</th>\n",
              "      <th>arrival_date</th>\n",
              "      <th>market_segment_type</th>\n",
              "      <th>repeated_guest</th>\n",
              "      <th>no_of_previous_cancellations</th>\n",
              "      <th>no_of_previous_bookings_not_canceled</th>\n",
              "      <th>avg_price_per_room</th>\n",
              "      <th>no_of_special_requests</th>\n",
              "      <th>booking_status</th>\n",
              "    </tr>\n",
              "  </thead>\n",
              "  <tbody>\n",
              "    <tr>\n",
              "      <th>7003</th>\n",
              "      <td>INN07004</td>\n",
              "      <td>1</td>\n",
              "      <td>0</td>\n",
              "      <td>0</td>\n",
              "      <td>1</td>\n",
              "      <td>Meal Plan 1</td>\n",
              "      <td>0</td>\n",
              "      <td>Room_Type 1</td>\n",
              "      <td>84</td>\n",
              "      <td>2018</td>\n",
              "      <td>9</td>\n",
              "      <td>7</td>\n",
              "      <td>Corporate</td>\n",
              "      <td>1</td>\n",
              "      <td>3</td>\n",
              "      <td>14</td>\n",
              "      <td>65.00</td>\n",
              "      <td>0</td>\n",
              "      <td>Not_Canceled</td>\n",
              "    </tr>\n",
              "    <tr>\n",
              "      <th>15783</th>\n",
              "      <td>INN15784</td>\n",
              "      <td>2</td>\n",
              "      <td>0</td>\n",
              "      <td>2</td>\n",
              "      <td>5</td>\n",
              "      <td>Meal Plan 1</td>\n",
              "      <td>0</td>\n",
              "      <td>Room_Type 4</td>\n",
              "      <td>176</td>\n",
              "      <td>2018</td>\n",
              "      <td>8</td>\n",
              "      <td>8</td>\n",
              "      <td>Online</td>\n",
              "      <td>0</td>\n",
              "      <td>0</td>\n",
              "      <td>0</td>\n",
              "      <td>112.20</td>\n",
              "      <td>1</td>\n",
              "      <td>Canceled</td>\n",
              "    </tr>\n",
              "    <tr>\n",
              "      <th>6719</th>\n",
              "      <td>INN06720</td>\n",
              "      <td>2</td>\n",
              "      <td>0</td>\n",
              "      <td>0</td>\n",
              "      <td>3</td>\n",
              "      <td>Meal Plan 1</td>\n",
              "      <td>0</td>\n",
              "      <td>Room_Type 1</td>\n",
              "      <td>9</td>\n",
              "      <td>2018</td>\n",
              "      <td>4</td>\n",
              "      <td>27</td>\n",
              "      <td>Online</td>\n",
              "      <td>0</td>\n",
              "      <td>0</td>\n",
              "      <td>0</td>\n",
              "      <td>131.00</td>\n",
              "      <td>1</td>\n",
              "      <td>Not_Canceled</td>\n",
              "    </tr>\n",
              "    <tr>\n",
              "      <th>17686</th>\n",
              "      <td>INN17687</td>\n",
              "      <td>1</td>\n",
              "      <td>1</td>\n",
              "      <td>2</td>\n",
              "      <td>4</td>\n",
              "      <td>Meal Plan 1</td>\n",
              "      <td>0</td>\n",
              "      <td>Room_Type 1</td>\n",
              "      <td>22</td>\n",
              "      <td>2018</td>\n",
              "      <td>2</td>\n",
              "      <td>13</td>\n",
              "      <td>Online</td>\n",
              "      <td>0</td>\n",
              "      <td>0</td>\n",
              "      <td>0</td>\n",
              "      <td>91.00</td>\n",
              "      <td>0</td>\n",
              "      <td>Not_Canceled</td>\n",
              "    </tr>\n",
              "    <tr>\n",
              "      <th>30415</th>\n",
              "      <td>INN30416</td>\n",
              "      <td>2</td>\n",
              "      <td>0</td>\n",
              "      <td>1</td>\n",
              "      <td>1</td>\n",
              "      <td>Meal Plan 1</td>\n",
              "      <td>0</td>\n",
              "      <td>Room_Type 1</td>\n",
              "      <td>3</td>\n",
              "      <td>2018</td>\n",
              "      <td>8</td>\n",
              "      <td>13</td>\n",
              "      <td>Online</td>\n",
              "      <td>0</td>\n",
              "      <td>0</td>\n",
              "      <td>0</td>\n",
              "      <td>207.00</td>\n",
              "      <td>0</td>\n",
              "      <td>Canceled</td>\n",
              "    </tr>\n",
              "    <tr>\n",
              "      <th>6276</th>\n",
              "      <td>INN06277</td>\n",
              "      <td>2</td>\n",
              "      <td>0</td>\n",
              "      <td>0</td>\n",
              "      <td>3</td>\n",
              "      <td>Meal Plan 1</td>\n",
              "      <td>0</td>\n",
              "      <td>Room_Type 1</td>\n",
              "      <td>41</td>\n",
              "      <td>2018</td>\n",
              "      <td>3</td>\n",
              "      <td>10</td>\n",
              "      <td>Online</td>\n",
              "      <td>0</td>\n",
              "      <td>0</td>\n",
              "      <td>0</td>\n",
              "      <td>83.90</td>\n",
              "      <td>1</td>\n",
              "      <td>Not_Canceled</td>\n",
              "    </tr>\n",
              "    <tr>\n",
              "      <th>2457</th>\n",
              "      <td>INN02458</td>\n",
              "      <td>1</td>\n",
              "      <td>0</td>\n",
              "      <td>0</td>\n",
              "      <td>1</td>\n",
              "      <td>Meal Plan 1</td>\n",
              "      <td>0</td>\n",
              "      <td>Room_Type 1</td>\n",
              "      <td>12</td>\n",
              "      <td>2017</td>\n",
              "      <td>11</td>\n",
              "      <td>25</td>\n",
              "      <td>Corporate</td>\n",
              "      <td>1</td>\n",
              "      <td>0</td>\n",
              "      <td>1</td>\n",
              "      <td>65.00</td>\n",
              "      <td>0</td>\n",
              "      <td>Not_Canceled</td>\n",
              "    </tr>\n",
              "    <tr>\n",
              "      <th>25357</th>\n",
              "      <td>INN25358</td>\n",
              "      <td>2</td>\n",
              "      <td>0</td>\n",
              "      <td>2</td>\n",
              "      <td>3</td>\n",
              "      <td>Meal Plan 1</td>\n",
              "      <td>0</td>\n",
              "      <td>Room_Type 4</td>\n",
              "      <td>59</td>\n",
              "      <td>2018</td>\n",
              "      <td>9</td>\n",
              "      <td>2</td>\n",
              "      <td>Online</td>\n",
              "      <td>0</td>\n",
              "      <td>0</td>\n",
              "      <td>0</td>\n",
              "      <td>120.96</td>\n",
              "      <td>1</td>\n",
              "      <td>Canceled</td>\n",
              "    </tr>\n",
              "    <tr>\n",
              "      <th>5554</th>\n",
              "      <td>INN05555</td>\n",
              "      <td>2</td>\n",
              "      <td>0</td>\n",
              "      <td>0</td>\n",
              "      <td>3</td>\n",
              "      <td>Meal Plan 1</td>\n",
              "      <td>0</td>\n",
              "      <td>Room_Type 1</td>\n",
              "      <td>19</td>\n",
              "      <td>2017</td>\n",
              "      <td>10</td>\n",
              "      <td>6</td>\n",
              "      <td>Offline</td>\n",
              "      <td>1</td>\n",
              "      <td>1</td>\n",
              "      <td>0</td>\n",
              "      <td>90.00</td>\n",
              "      <td>0</td>\n",
              "      <td>Not_Canceled</td>\n",
              "    </tr>\n",
              "    <tr>\n",
              "      <th>4732</th>\n",
              "      <td>INN04733</td>\n",
              "      <td>2</td>\n",
              "      <td>0</td>\n",
              "      <td>0</td>\n",
              "      <td>1</td>\n",
              "      <td>Not Selected</td>\n",
              "      <td>0</td>\n",
              "      <td>Room_Type 1</td>\n",
              "      <td>0</td>\n",
              "      <td>2018</td>\n",
              "      <td>6</td>\n",
              "      <td>1</td>\n",
              "      <td>Online</td>\n",
              "      <td>0</td>\n",
              "      <td>0</td>\n",
              "      <td>0</td>\n",
              "      <td>116.10</td>\n",
              "      <td>1</td>\n",
              "      <td>Not_Canceled</td>\n",
              "    </tr>\n",
              "  </tbody>\n",
              "</table>\n",
              "</div>\n",
              "      <button class=\"colab-df-convert\" onclick=\"convertToInteractive('df-87b9b396-bb2e-4fed-835a-c8595f033ae8')\"\n",
              "              title=\"Convert this dataframe to an interactive table.\"\n",
              "              style=\"display:none;\">\n",
              "        \n",
              "  <svg xmlns=\"http://www.w3.org/2000/svg\" height=\"24px\"viewBox=\"0 0 24 24\"\n",
              "       width=\"24px\">\n",
              "    <path d=\"M0 0h24v24H0V0z\" fill=\"none\"/>\n",
              "    <path d=\"M18.56 5.44l.94 2.06.94-2.06 2.06-.94-2.06-.94-.94-2.06-.94 2.06-2.06.94zm-11 1L8.5 8.5l.94-2.06 2.06-.94-2.06-.94L8.5 2.5l-.94 2.06-2.06.94zm10 10l.94 2.06.94-2.06 2.06-.94-2.06-.94-.94-2.06-.94 2.06-2.06.94z\"/><path d=\"M17.41 7.96l-1.37-1.37c-.4-.4-.92-.59-1.43-.59-.52 0-1.04.2-1.43.59L10.3 9.45l-7.72 7.72c-.78.78-.78 2.05 0 2.83L4 21.41c.39.39.9.59 1.41.59.51 0 1.02-.2 1.41-.59l7.78-7.78 2.81-2.81c.8-.78.8-2.07 0-2.86zM5.41 20L4 18.59l7.72-7.72 1.47 1.35L5.41 20z\"/>\n",
              "  </svg>\n",
              "      </button>\n",
              "      \n",
              "  <style>\n",
              "    .colab-df-container {\n",
              "      display:flex;\n",
              "      flex-wrap:wrap;\n",
              "      gap: 12px;\n",
              "    }\n",
              "\n",
              "    .colab-df-convert {\n",
              "      background-color: #E8F0FE;\n",
              "      border: none;\n",
              "      border-radius: 50%;\n",
              "      cursor: pointer;\n",
              "      display: none;\n",
              "      fill: #1967D2;\n",
              "      height: 32px;\n",
              "      padding: 0 0 0 0;\n",
              "      width: 32px;\n",
              "    }\n",
              "\n",
              "    .colab-df-convert:hover {\n",
              "      background-color: #E2EBFA;\n",
              "      box-shadow: 0px 1px 2px rgba(60, 64, 67, 0.3), 0px 1px 3px 1px rgba(60, 64, 67, 0.15);\n",
              "      fill: #174EA6;\n",
              "    }\n",
              "\n",
              "    [theme=dark] .colab-df-convert {\n",
              "      background-color: #3B4455;\n",
              "      fill: #D2E3FC;\n",
              "    }\n",
              "\n",
              "    [theme=dark] .colab-df-convert:hover {\n",
              "      background-color: #434B5C;\n",
              "      box-shadow: 0px 1px 3px 1px rgba(0, 0, 0, 0.15);\n",
              "      filter: drop-shadow(0px 1px 2px rgba(0, 0, 0, 0.3));\n",
              "      fill: #FFFFFF;\n",
              "    }\n",
              "  </style>\n",
              "\n",
              "      <script>\n",
              "        const buttonEl =\n",
              "          document.querySelector('#df-87b9b396-bb2e-4fed-835a-c8595f033ae8 button.colab-df-convert');\n",
              "        buttonEl.style.display =\n",
              "          google.colab.kernel.accessAllowed ? 'block' : 'none';\n",
              "\n",
              "        async function convertToInteractive(key) {\n",
              "          const element = document.querySelector('#df-87b9b396-bb2e-4fed-835a-c8595f033ae8');\n",
              "          const dataTable =\n",
              "            await google.colab.kernel.invokeFunction('convertToInteractive',\n",
              "                                                     [key], {});\n",
              "          if (!dataTable) return;\n",
              "\n",
              "          const docLinkHtml = 'Like what you see? Visit the ' +\n",
              "            '<a target=\"_blank\" href=https://colab.research.google.com/notebooks/data_table.ipynb>data table notebook</a>'\n",
              "            + ' to learn more about interactive tables.';\n",
              "          element.innerHTML = '';\n",
              "          dataTable['output_type'] = 'display_data';\n",
              "          await google.colab.output.renderOutput(dataTable, element);\n",
              "          const docLink = document.createElement('div');\n",
              "          docLink.innerHTML = docLinkHtml;\n",
              "          element.appendChild(docLink);\n",
              "        }\n",
              "      </script>\n",
              "    </div>\n",
              "  </div>\n",
              "  "
            ]
          },
          "metadata": {},
          "execution_count": 4
        }
      ]
    },
    {
      "cell_type": "code",
      "source": [
        "df.head()"
      ],
      "metadata": {
        "colab": {
          "base_uri": "https://localhost:8080/",
          "height": 270
        },
        "id": "O7w-ndkzZIjR",
        "outputId": "b2c2e129-a380-4f90-d20b-bfc2e4fc6bc5"
      },
      "execution_count": 5,
      "outputs": [
        {
          "output_type": "execute_result",
          "data": {
            "text/plain": [
              "  Booking_ID  no_of_adults  no_of_children  no_of_weekend_nights  \\\n",
              "0   INN00001             2               0                     1   \n",
              "1   INN00002             2               0                     2   \n",
              "2   INN00003             1               0                     2   \n",
              "3   INN00004             2               0                     0   \n",
              "4   INN00005             2               0                     1   \n",
              "\n",
              "   no_of_week_nights type_of_meal_plan  required_car_parking_space  \\\n",
              "0                  2       Meal Plan 1                           0   \n",
              "1                  3      Not Selected                           0   \n",
              "2                  1       Meal Plan 1                           0   \n",
              "3                  2       Meal Plan 1                           0   \n",
              "4                  1      Not Selected                           0   \n",
              "\n",
              "  room_type_reserved  lead_time  arrival_year  arrival_month  arrival_date  \\\n",
              "0        Room_Type 1        224          2017             10             2   \n",
              "1        Room_Type 1          5          2018             11             6   \n",
              "2        Room_Type 1          1          2018              2            28   \n",
              "3        Room_Type 1        211          2018              5            20   \n",
              "4        Room_Type 1         48          2018              4            11   \n",
              "\n",
              "  market_segment_type  repeated_guest  no_of_previous_cancellations  \\\n",
              "0             Offline               0                             0   \n",
              "1              Online               0                             0   \n",
              "2              Online               0                             0   \n",
              "3              Online               0                             0   \n",
              "4              Online               0                             0   \n",
              "\n",
              "   no_of_previous_bookings_not_canceled  avg_price_per_room  \\\n",
              "0                                     0               65.00   \n",
              "1                                     0              106.68   \n",
              "2                                     0               60.00   \n",
              "3                                     0              100.00   \n",
              "4                                     0               94.50   \n",
              "\n",
              "   no_of_special_requests booking_status  \n",
              "0                       0   Not_Canceled  \n",
              "1                       1   Not_Canceled  \n",
              "2                       0       Canceled  \n",
              "3                       0       Canceled  \n",
              "4                       0       Canceled  "
            ],
            "text/html": [
              "\n",
              "  <div id=\"df-778fe0e3-6a0b-4a9b-a6d3-507b291fbbff\">\n",
              "    <div class=\"colab-df-container\">\n",
              "      <div>\n",
              "<style scoped>\n",
              "    .dataframe tbody tr th:only-of-type {\n",
              "        vertical-align: middle;\n",
              "    }\n",
              "\n",
              "    .dataframe tbody tr th {\n",
              "        vertical-align: top;\n",
              "    }\n",
              "\n",
              "    .dataframe thead th {\n",
              "        text-align: right;\n",
              "    }\n",
              "</style>\n",
              "<table border=\"1\" class=\"dataframe\">\n",
              "  <thead>\n",
              "    <tr style=\"text-align: right;\">\n",
              "      <th></th>\n",
              "      <th>Booking_ID</th>\n",
              "      <th>no_of_adults</th>\n",
              "      <th>no_of_children</th>\n",
              "      <th>no_of_weekend_nights</th>\n",
              "      <th>no_of_week_nights</th>\n",
              "      <th>type_of_meal_plan</th>\n",
              "      <th>required_car_parking_space</th>\n",
              "      <th>room_type_reserved</th>\n",
              "      <th>lead_time</th>\n",
              "      <th>arrival_year</th>\n",
              "      <th>arrival_month</th>\n",
              "      <th>arrival_date</th>\n",
              "      <th>market_segment_type</th>\n",
              "      <th>repeated_guest</th>\n",
              "      <th>no_of_previous_cancellations</th>\n",
              "      <th>no_of_previous_bookings_not_canceled</th>\n",
              "      <th>avg_price_per_room</th>\n",
              "      <th>no_of_special_requests</th>\n",
              "      <th>booking_status</th>\n",
              "    </tr>\n",
              "  </thead>\n",
              "  <tbody>\n",
              "    <tr>\n",
              "      <th>0</th>\n",
              "      <td>INN00001</td>\n",
              "      <td>2</td>\n",
              "      <td>0</td>\n",
              "      <td>1</td>\n",
              "      <td>2</td>\n",
              "      <td>Meal Plan 1</td>\n",
              "      <td>0</td>\n",
              "      <td>Room_Type 1</td>\n",
              "      <td>224</td>\n",
              "      <td>2017</td>\n",
              "      <td>10</td>\n",
              "      <td>2</td>\n",
              "      <td>Offline</td>\n",
              "      <td>0</td>\n",
              "      <td>0</td>\n",
              "      <td>0</td>\n",
              "      <td>65.00</td>\n",
              "      <td>0</td>\n",
              "      <td>Not_Canceled</td>\n",
              "    </tr>\n",
              "    <tr>\n",
              "      <th>1</th>\n",
              "      <td>INN00002</td>\n",
              "      <td>2</td>\n",
              "      <td>0</td>\n",
              "      <td>2</td>\n",
              "      <td>3</td>\n",
              "      <td>Not Selected</td>\n",
              "      <td>0</td>\n",
              "      <td>Room_Type 1</td>\n",
              "      <td>5</td>\n",
              "      <td>2018</td>\n",
              "      <td>11</td>\n",
              "      <td>6</td>\n",
              "      <td>Online</td>\n",
              "      <td>0</td>\n",
              "      <td>0</td>\n",
              "      <td>0</td>\n",
              "      <td>106.68</td>\n",
              "      <td>1</td>\n",
              "      <td>Not_Canceled</td>\n",
              "    </tr>\n",
              "    <tr>\n",
              "      <th>2</th>\n",
              "      <td>INN00003</td>\n",
              "      <td>1</td>\n",
              "      <td>0</td>\n",
              "      <td>2</td>\n",
              "      <td>1</td>\n",
              "      <td>Meal Plan 1</td>\n",
              "      <td>0</td>\n",
              "      <td>Room_Type 1</td>\n",
              "      <td>1</td>\n",
              "      <td>2018</td>\n",
              "      <td>2</td>\n",
              "      <td>28</td>\n",
              "      <td>Online</td>\n",
              "      <td>0</td>\n",
              "      <td>0</td>\n",
              "      <td>0</td>\n",
              "      <td>60.00</td>\n",
              "      <td>0</td>\n",
              "      <td>Canceled</td>\n",
              "    </tr>\n",
              "    <tr>\n",
              "      <th>3</th>\n",
              "      <td>INN00004</td>\n",
              "      <td>2</td>\n",
              "      <td>0</td>\n",
              "      <td>0</td>\n",
              "      <td>2</td>\n",
              "      <td>Meal Plan 1</td>\n",
              "      <td>0</td>\n",
              "      <td>Room_Type 1</td>\n",
              "      <td>211</td>\n",
              "      <td>2018</td>\n",
              "      <td>5</td>\n",
              "      <td>20</td>\n",
              "      <td>Online</td>\n",
              "      <td>0</td>\n",
              "      <td>0</td>\n",
              "      <td>0</td>\n",
              "      <td>100.00</td>\n",
              "      <td>0</td>\n",
              "      <td>Canceled</td>\n",
              "    </tr>\n",
              "    <tr>\n",
              "      <th>4</th>\n",
              "      <td>INN00005</td>\n",
              "      <td>2</td>\n",
              "      <td>0</td>\n",
              "      <td>1</td>\n",
              "      <td>1</td>\n",
              "      <td>Not Selected</td>\n",
              "      <td>0</td>\n",
              "      <td>Room_Type 1</td>\n",
              "      <td>48</td>\n",
              "      <td>2018</td>\n",
              "      <td>4</td>\n",
              "      <td>11</td>\n",
              "      <td>Online</td>\n",
              "      <td>0</td>\n",
              "      <td>0</td>\n",
              "      <td>0</td>\n",
              "      <td>94.50</td>\n",
              "      <td>0</td>\n",
              "      <td>Canceled</td>\n",
              "    </tr>\n",
              "  </tbody>\n",
              "</table>\n",
              "</div>\n",
              "      <button class=\"colab-df-convert\" onclick=\"convertToInteractive('df-778fe0e3-6a0b-4a9b-a6d3-507b291fbbff')\"\n",
              "              title=\"Convert this dataframe to an interactive table.\"\n",
              "              style=\"display:none;\">\n",
              "        \n",
              "  <svg xmlns=\"http://www.w3.org/2000/svg\" height=\"24px\"viewBox=\"0 0 24 24\"\n",
              "       width=\"24px\">\n",
              "    <path d=\"M0 0h24v24H0V0z\" fill=\"none\"/>\n",
              "    <path d=\"M18.56 5.44l.94 2.06.94-2.06 2.06-.94-2.06-.94-.94-2.06-.94 2.06-2.06.94zm-11 1L8.5 8.5l.94-2.06 2.06-.94-2.06-.94L8.5 2.5l-.94 2.06-2.06.94zm10 10l.94 2.06.94-2.06 2.06-.94-2.06-.94-.94-2.06-.94 2.06-2.06.94z\"/><path d=\"M17.41 7.96l-1.37-1.37c-.4-.4-.92-.59-1.43-.59-.52 0-1.04.2-1.43.59L10.3 9.45l-7.72 7.72c-.78.78-.78 2.05 0 2.83L4 21.41c.39.39.9.59 1.41.59.51 0 1.02-.2 1.41-.59l7.78-7.78 2.81-2.81c.8-.78.8-2.07 0-2.86zM5.41 20L4 18.59l7.72-7.72 1.47 1.35L5.41 20z\"/>\n",
              "  </svg>\n",
              "      </button>\n",
              "      \n",
              "  <style>\n",
              "    .colab-df-container {\n",
              "      display:flex;\n",
              "      flex-wrap:wrap;\n",
              "      gap: 12px;\n",
              "    }\n",
              "\n",
              "    .colab-df-convert {\n",
              "      background-color: #E8F0FE;\n",
              "      border: none;\n",
              "      border-radius: 50%;\n",
              "      cursor: pointer;\n",
              "      display: none;\n",
              "      fill: #1967D2;\n",
              "      height: 32px;\n",
              "      padding: 0 0 0 0;\n",
              "      width: 32px;\n",
              "    }\n",
              "\n",
              "    .colab-df-convert:hover {\n",
              "      background-color: #E2EBFA;\n",
              "      box-shadow: 0px 1px 2px rgba(60, 64, 67, 0.3), 0px 1px 3px 1px rgba(60, 64, 67, 0.15);\n",
              "      fill: #174EA6;\n",
              "    }\n",
              "\n",
              "    [theme=dark] .colab-df-convert {\n",
              "      background-color: #3B4455;\n",
              "      fill: #D2E3FC;\n",
              "    }\n",
              "\n",
              "    [theme=dark] .colab-df-convert:hover {\n",
              "      background-color: #434B5C;\n",
              "      box-shadow: 0px 1px 3px 1px rgba(0, 0, 0, 0.15);\n",
              "      filter: drop-shadow(0px 1px 2px rgba(0, 0, 0, 0.3));\n",
              "      fill: #FFFFFF;\n",
              "    }\n",
              "  </style>\n",
              "\n",
              "      <script>\n",
              "        const buttonEl =\n",
              "          document.querySelector('#df-778fe0e3-6a0b-4a9b-a6d3-507b291fbbff button.colab-df-convert');\n",
              "        buttonEl.style.display =\n",
              "          google.colab.kernel.accessAllowed ? 'block' : 'none';\n",
              "\n",
              "        async function convertToInteractive(key) {\n",
              "          const element = document.querySelector('#df-778fe0e3-6a0b-4a9b-a6d3-507b291fbbff');\n",
              "          const dataTable =\n",
              "            await google.colab.kernel.invokeFunction('convertToInteractive',\n",
              "                                                     [key], {});\n",
              "          if (!dataTable) return;\n",
              "\n",
              "          const docLinkHtml = 'Like what you see? Visit the ' +\n",
              "            '<a target=\"_blank\" href=https://colab.research.google.com/notebooks/data_table.ipynb>data table notebook</a>'\n",
              "            + ' to learn more about interactive tables.';\n",
              "          element.innerHTML = '';\n",
              "          dataTable['output_type'] = 'display_data';\n",
              "          await google.colab.output.renderOutput(dataTable, element);\n",
              "          const docLink = document.createElement('div');\n",
              "          docLink.innerHTML = docLinkHtml;\n",
              "          element.appendChild(docLink);\n",
              "        }\n",
              "      </script>\n",
              "    </div>\n",
              "  </div>\n",
              "  "
            ]
          },
          "metadata": {},
          "execution_count": 5
        }
      ]
    },
    {
      "cell_type": "code",
      "source": [
        "#looking at the min, max values,mean values etc. NAN values for mean,25% ,50%,75%,max indicates those are categorical columns.\n",
        "df.describe(include='all')"
      ],
      "metadata": {
        "colab": {
          "base_uri": "https://localhost:8080/",
          "height": 458
        },
        "id": "N15p52lzHF5h",
        "outputId": "d7d53e57-d402-40a3-dae9-9713ea607088"
      },
      "execution_count": 6,
      "outputs": [
        {
          "output_type": "execute_result",
          "data": {
            "text/plain": [
              "       Booking_ID  no_of_adults  no_of_children  no_of_weekend_nights  \\\n",
              "count       36275  36275.000000    36275.000000          36275.000000   \n",
              "unique      36275           NaN             NaN                   NaN   \n",
              "top      INN00001           NaN             NaN                   NaN   \n",
              "freq            1           NaN             NaN                   NaN   \n",
              "mean          NaN      1.844962        0.105279              0.810724   \n",
              "std           NaN      0.518715        0.402648              0.870644   \n",
              "min           NaN      0.000000        0.000000              0.000000   \n",
              "25%           NaN      2.000000        0.000000              0.000000   \n",
              "50%           NaN      2.000000        0.000000              1.000000   \n",
              "75%           NaN      2.000000        0.000000              2.000000   \n",
              "max           NaN      4.000000       10.000000              7.000000   \n",
              "\n",
              "        no_of_week_nights type_of_meal_plan  required_car_parking_space  \\\n",
              "count        36275.000000             36275                36275.000000   \n",
              "unique                NaN                 4                         NaN   \n",
              "top                   NaN       Meal Plan 1                         NaN   \n",
              "freq                  NaN             27835                         NaN   \n",
              "mean             2.204300               NaN                    0.030986   \n",
              "std              1.410905               NaN                    0.173281   \n",
              "min              0.000000               NaN                    0.000000   \n",
              "25%              1.000000               NaN                    0.000000   \n",
              "50%              2.000000               NaN                    0.000000   \n",
              "75%              3.000000               NaN                    0.000000   \n",
              "max             17.000000               NaN                    1.000000   \n",
              "\n",
              "       room_type_reserved     lead_time  arrival_year  arrival_month  \\\n",
              "count               36275  36275.000000  36275.000000   36275.000000   \n",
              "unique                  7           NaN           NaN            NaN   \n",
              "top           Room_Type 1           NaN           NaN            NaN   \n",
              "freq                28130           NaN           NaN            NaN   \n",
              "mean                  NaN     85.232557   2017.820427       7.423653   \n",
              "std                   NaN     85.930817      0.383836       3.069894   \n",
              "min                   NaN      0.000000   2017.000000       1.000000   \n",
              "25%                   NaN     17.000000   2018.000000       5.000000   \n",
              "50%                   NaN     57.000000   2018.000000       8.000000   \n",
              "75%                   NaN    126.000000   2018.000000      10.000000   \n",
              "max                   NaN    443.000000   2018.000000      12.000000   \n",
              "\n",
              "        arrival_date market_segment_type  repeated_guest  \\\n",
              "count   36275.000000               36275    36275.000000   \n",
              "unique           NaN                   5             NaN   \n",
              "top              NaN              Online             NaN   \n",
              "freq             NaN               23214             NaN   \n",
              "mean       15.596995                 NaN        0.025637   \n",
              "std         8.740447                 NaN        0.158053   \n",
              "min         1.000000                 NaN        0.000000   \n",
              "25%         8.000000                 NaN        0.000000   \n",
              "50%        16.000000                 NaN        0.000000   \n",
              "75%        23.000000                 NaN        0.000000   \n",
              "max        31.000000                 NaN        1.000000   \n",
              "\n",
              "        no_of_previous_cancellations  no_of_previous_bookings_not_canceled  \\\n",
              "count                   36275.000000                          36275.000000   \n",
              "unique                           NaN                                   NaN   \n",
              "top                              NaN                                   NaN   \n",
              "freq                             NaN                                   NaN   \n",
              "mean                        0.023349                              0.153411   \n",
              "std                         0.368331                              1.754171   \n",
              "min                         0.000000                              0.000000   \n",
              "25%                         0.000000                              0.000000   \n",
              "50%                         0.000000                              0.000000   \n",
              "75%                         0.000000                              0.000000   \n",
              "max                        13.000000                             58.000000   \n",
              "\n",
              "        avg_price_per_room  no_of_special_requests booking_status  \n",
              "count         36275.000000            36275.000000          36275  \n",
              "unique                 NaN                     NaN              2  \n",
              "top                    NaN                     NaN   Not_Canceled  \n",
              "freq                   NaN                     NaN          24390  \n",
              "mean            103.423539                0.619655            NaN  \n",
              "std              35.089424                0.786236            NaN  \n",
              "min               0.000000                0.000000            NaN  \n",
              "25%              80.300000                0.000000            NaN  \n",
              "50%              99.450000                0.000000            NaN  \n",
              "75%             120.000000                1.000000            NaN  \n",
              "max             540.000000                5.000000            NaN  "
            ],
            "text/html": [
              "\n",
              "  <div id=\"df-ef461e8e-a556-4346-ac31-6b912628e4bf\">\n",
              "    <div class=\"colab-df-container\">\n",
              "      <div>\n",
              "<style scoped>\n",
              "    .dataframe tbody tr th:only-of-type {\n",
              "        vertical-align: middle;\n",
              "    }\n",
              "\n",
              "    .dataframe tbody tr th {\n",
              "        vertical-align: top;\n",
              "    }\n",
              "\n",
              "    .dataframe thead th {\n",
              "        text-align: right;\n",
              "    }\n",
              "</style>\n",
              "<table border=\"1\" class=\"dataframe\">\n",
              "  <thead>\n",
              "    <tr style=\"text-align: right;\">\n",
              "      <th></th>\n",
              "      <th>Booking_ID</th>\n",
              "      <th>no_of_adults</th>\n",
              "      <th>no_of_children</th>\n",
              "      <th>no_of_weekend_nights</th>\n",
              "      <th>no_of_week_nights</th>\n",
              "      <th>type_of_meal_plan</th>\n",
              "      <th>required_car_parking_space</th>\n",
              "      <th>room_type_reserved</th>\n",
              "      <th>lead_time</th>\n",
              "      <th>arrival_year</th>\n",
              "      <th>arrival_month</th>\n",
              "      <th>arrival_date</th>\n",
              "      <th>market_segment_type</th>\n",
              "      <th>repeated_guest</th>\n",
              "      <th>no_of_previous_cancellations</th>\n",
              "      <th>no_of_previous_bookings_not_canceled</th>\n",
              "      <th>avg_price_per_room</th>\n",
              "      <th>no_of_special_requests</th>\n",
              "      <th>booking_status</th>\n",
              "    </tr>\n",
              "  </thead>\n",
              "  <tbody>\n",
              "    <tr>\n",
              "      <th>count</th>\n",
              "      <td>36275</td>\n",
              "      <td>36275.000000</td>\n",
              "      <td>36275.000000</td>\n",
              "      <td>36275.000000</td>\n",
              "      <td>36275.000000</td>\n",
              "      <td>36275</td>\n",
              "      <td>36275.000000</td>\n",
              "      <td>36275</td>\n",
              "      <td>36275.000000</td>\n",
              "      <td>36275.000000</td>\n",
              "      <td>36275.000000</td>\n",
              "      <td>36275.000000</td>\n",
              "      <td>36275</td>\n",
              "      <td>36275.000000</td>\n",
              "      <td>36275.000000</td>\n",
              "      <td>36275.000000</td>\n",
              "      <td>36275.000000</td>\n",
              "      <td>36275.000000</td>\n",
              "      <td>36275</td>\n",
              "    </tr>\n",
              "    <tr>\n",
              "      <th>unique</th>\n",
              "      <td>36275</td>\n",
              "      <td>NaN</td>\n",
              "      <td>NaN</td>\n",
              "      <td>NaN</td>\n",
              "      <td>NaN</td>\n",
              "      <td>4</td>\n",
              "      <td>NaN</td>\n",
              "      <td>7</td>\n",
              "      <td>NaN</td>\n",
              "      <td>NaN</td>\n",
              "      <td>NaN</td>\n",
              "      <td>NaN</td>\n",
              "      <td>5</td>\n",
              "      <td>NaN</td>\n",
              "      <td>NaN</td>\n",
              "      <td>NaN</td>\n",
              "      <td>NaN</td>\n",
              "      <td>NaN</td>\n",
              "      <td>2</td>\n",
              "    </tr>\n",
              "    <tr>\n",
              "      <th>top</th>\n",
              "      <td>INN00001</td>\n",
              "      <td>NaN</td>\n",
              "      <td>NaN</td>\n",
              "      <td>NaN</td>\n",
              "      <td>NaN</td>\n",
              "      <td>Meal Plan 1</td>\n",
              "      <td>NaN</td>\n",
              "      <td>Room_Type 1</td>\n",
              "      <td>NaN</td>\n",
              "      <td>NaN</td>\n",
              "      <td>NaN</td>\n",
              "      <td>NaN</td>\n",
              "      <td>Online</td>\n",
              "      <td>NaN</td>\n",
              "      <td>NaN</td>\n",
              "      <td>NaN</td>\n",
              "      <td>NaN</td>\n",
              "      <td>NaN</td>\n",
              "      <td>Not_Canceled</td>\n",
              "    </tr>\n",
              "    <tr>\n",
              "      <th>freq</th>\n",
              "      <td>1</td>\n",
              "      <td>NaN</td>\n",
              "      <td>NaN</td>\n",
              "      <td>NaN</td>\n",
              "      <td>NaN</td>\n",
              "      <td>27835</td>\n",
              "      <td>NaN</td>\n",
              "      <td>28130</td>\n",
              "      <td>NaN</td>\n",
              "      <td>NaN</td>\n",
              "      <td>NaN</td>\n",
              "      <td>NaN</td>\n",
              "      <td>23214</td>\n",
              "      <td>NaN</td>\n",
              "      <td>NaN</td>\n",
              "      <td>NaN</td>\n",
              "      <td>NaN</td>\n",
              "      <td>NaN</td>\n",
              "      <td>24390</td>\n",
              "    </tr>\n",
              "    <tr>\n",
              "      <th>mean</th>\n",
              "      <td>NaN</td>\n",
              "      <td>1.844962</td>\n",
              "      <td>0.105279</td>\n",
              "      <td>0.810724</td>\n",
              "      <td>2.204300</td>\n",
              "      <td>NaN</td>\n",
              "      <td>0.030986</td>\n",
              "      <td>NaN</td>\n",
              "      <td>85.232557</td>\n",
              "      <td>2017.820427</td>\n",
              "      <td>7.423653</td>\n",
              "      <td>15.596995</td>\n",
              "      <td>NaN</td>\n",
              "      <td>0.025637</td>\n",
              "      <td>0.023349</td>\n",
              "      <td>0.153411</td>\n",
              "      <td>103.423539</td>\n",
              "      <td>0.619655</td>\n",
              "      <td>NaN</td>\n",
              "    </tr>\n",
              "    <tr>\n",
              "      <th>std</th>\n",
              "      <td>NaN</td>\n",
              "      <td>0.518715</td>\n",
              "      <td>0.402648</td>\n",
              "      <td>0.870644</td>\n",
              "      <td>1.410905</td>\n",
              "      <td>NaN</td>\n",
              "      <td>0.173281</td>\n",
              "      <td>NaN</td>\n",
              "      <td>85.930817</td>\n",
              "      <td>0.383836</td>\n",
              "      <td>3.069894</td>\n",
              "      <td>8.740447</td>\n",
              "      <td>NaN</td>\n",
              "      <td>0.158053</td>\n",
              "      <td>0.368331</td>\n",
              "      <td>1.754171</td>\n",
              "      <td>35.089424</td>\n",
              "      <td>0.786236</td>\n",
              "      <td>NaN</td>\n",
              "    </tr>\n",
              "    <tr>\n",
              "      <th>min</th>\n",
              "      <td>NaN</td>\n",
              "      <td>0.000000</td>\n",
              "      <td>0.000000</td>\n",
              "      <td>0.000000</td>\n",
              "      <td>0.000000</td>\n",
              "      <td>NaN</td>\n",
              "      <td>0.000000</td>\n",
              "      <td>NaN</td>\n",
              "      <td>0.000000</td>\n",
              "      <td>2017.000000</td>\n",
              "      <td>1.000000</td>\n",
              "      <td>1.000000</td>\n",
              "      <td>NaN</td>\n",
              "      <td>0.000000</td>\n",
              "      <td>0.000000</td>\n",
              "      <td>0.000000</td>\n",
              "      <td>0.000000</td>\n",
              "      <td>0.000000</td>\n",
              "      <td>NaN</td>\n",
              "    </tr>\n",
              "    <tr>\n",
              "      <th>25%</th>\n",
              "      <td>NaN</td>\n",
              "      <td>2.000000</td>\n",
              "      <td>0.000000</td>\n",
              "      <td>0.000000</td>\n",
              "      <td>1.000000</td>\n",
              "      <td>NaN</td>\n",
              "      <td>0.000000</td>\n",
              "      <td>NaN</td>\n",
              "      <td>17.000000</td>\n",
              "      <td>2018.000000</td>\n",
              "      <td>5.000000</td>\n",
              "      <td>8.000000</td>\n",
              "      <td>NaN</td>\n",
              "      <td>0.000000</td>\n",
              "      <td>0.000000</td>\n",
              "      <td>0.000000</td>\n",
              "      <td>80.300000</td>\n",
              "      <td>0.000000</td>\n",
              "      <td>NaN</td>\n",
              "    </tr>\n",
              "    <tr>\n",
              "      <th>50%</th>\n",
              "      <td>NaN</td>\n",
              "      <td>2.000000</td>\n",
              "      <td>0.000000</td>\n",
              "      <td>1.000000</td>\n",
              "      <td>2.000000</td>\n",
              "      <td>NaN</td>\n",
              "      <td>0.000000</td>\n",
              "      <td>NaN</td>\n",
              "      <td>57.000000</td>\n",
              "      <td>2018.000000</td>\n",
              "      <td>8.000000</td>\n",
              "      <td>16.000000</td>\n",
              "      <td>NaN</td>\n",
              "      <td>0.000000</td>\n",
              "      <td>0.000000</td>\n",
              "      <td>0.000000</td>\n",
              "      <td>99.450000</td>\n",
              "      <td>0.000000</td>\n",
              "      <td>NaN</td>\n",
              "    </tr>\n",
              "    <tr>\n",
              "      <th>75%</th>\n",
              "      <td>NaN</td>\n",
              "      <td>2.000000</td>\n",
              "      <td>0.000000</td>\n",
              "      <td>2.000000</td>\n",
              "      <td>3.000000</td>\n",
              "      <td>NaN</td>\n",
              "      <td>0.000000</td>\n",
              "      <td>NaN</td>\n",
              "      <td>126.000000</td>\n",
              "      <td>2018.000000</td>\n",
              "      <td>10.000000</td>\n",
              "      <td>23.000000</td>\n",
              "      <td>NaN</td>\n",
              "      <td>0.000000</td>\n",
              "      <td>0.000000</td>\n",
              "      <td>0.000000</td>\n",
              "      <td>120.000000</td>\n",
              "      <td>1.000000</td>\n",
              "      <td>NaN</td>\n",
              "    </tr>\n",
              "    <tr>\n",
              "      <th>max</th>\n",
              "      <td>NaN</td>\n",
              "      <td>4.000000</td>\n",
              "      <td>10.000000</td>\n",
              "      <td>7.000000</td>\n",
              "      <td>17.000000</td>\n",
              "      <td>NaN</td>\n",
              "      <td>1.000000</td>\n",
              "      <td>NaN</td>\n",
              "      <td>443.000000</td>\n",
              "      <td>2018.000000</td>\n",
              "      <td>12.000000</td>\n",
              "      <td>31.000000</td>\n",
              "      <td>NaN</td>\n",
              "      <td>1.000000</td>\n",
              "      <td>13.000000</td>\n",
              "      <td>58.000000</td>\n",
              "      <td>540.000000</td>\n",
              "      <td>5.000000</td>\n",
              "      <td>NaN</td>\n",
              "    </tr>\n",
              "  </tbody>\n",
              "</table>\n",
              "</div>\n",
              "      <button class=\"colab-df-convert\" onclick=\"convertToInteractive('df-ef461e8e-a556-4346-ac31-6b912628e4bf')\"\n",
              "              title=\"Convert this dataframe to an interactive table.\"\n",
              "              style=\"display:none;\">\n",
              "        \n",
              "  <svg xmlns=\"http://www.w3.org/2000/svg\" height=\"24px\"viewBox=\"0 0 24 24\"\n",
              "       width=\"24px\">\n",
              "    <path d=\"M0 0h24v24H0V0z\" fill=\"none\"/>\n",
              "    <path d=\"M18.56 5.44l.94 2.06.94-2.06 2.06-.94-2.06-.94-.94-2.06-.94 2.06-2.06.94zm-11 1L8.5 8.5l.94-2.06 2.06-.94-2.06-.94L8.5 2.5l-.94 2.06-2.06.94zm10 10l.94 2.06.94-2.06 2.06-.94-2.06-.94-.94-2.06-.94 2.06-2.06.94z\"/><path d=\"M17.41 7.96l-1.37-1.37c-.4-.4-.92-.59-1.43-.59-.52 0-1.04.2-1.43.59L10.3 9.45l-7.72 7.72c-.78.78-.78 2.05 0 2.83L4 21.41c.39.39.9.59 1.41.59.51 0 1.02-.2 1.41-.59l7.78-7.78 2.81-2.81c.8-.78.8-2.07 0-2.86zM5.41 20L4 18.59l7.72-7.72 1.47 1.35L5.41 20z\"/>\n",
              "  </svg>\n",
              "      </button>\n",
              "      \n",
              "  <style>\n",
              "    .colab-df-container {\n",
              "      display:flex;\n",
              "      flex-wrap:wrap;\n",
              "      gap: 12px;\n",
              "    }\n",
              "\n",
              "    .colab-df-convert {\n",
              "      background-color: #E8F0FE;\n",
              "      border: none;\n",
              "      border-radius: 50%;\n",
              "      cursor: pointer;\n",
              "      display: none;\n",
              "      fill: #1967D2;\n",
              "      height: 32px;\n",
              "      padding: 0 0 0 0;\n",
              "      width: 32px;\n",
              "    }\n",
              "\n",
              "    .colab-df-convert:hover {\n",
              "      background-color: #E2EBFA;\n",
              "      box-shadow: 0px 1px 2px rgba(60, 64, 67, 0.3), 0px 1px 3px 1px rgba(60, 64, 67, 0.15);\n",
              "      fill: #174EA6;\n",
              "    }\n",
              "\n",
              "    [theme=dark] .colab-df-convert {\n",
              "      background-color: #3B4455;\n",
              "      fill: #D2E3FC;\n",
              "    }\n",
              "\n",
              "    [theme=dark] .colab-df-convert:hover {\n",
              "      background-color: #434B5C;\n",
              "      box-shadow: 0px 1px 3px 1px rgba(0, 0, 0, 0.15);\n",
              "      filter: drop-shadow(0px 1px 2px rgba(0, 0, 0, 0.3));\n",
              "      fill: #FFFFFF;\n",
              "    }\n",
              "  </style>\n",
              "\n",
              "      <script>\n",
              "        const buttonEl =\n",
              "          document.querySelector('#df-ef461e8e-a556-4346-ac31-6b912628e4bf button.colab-df-convert');\n",
              "        buttonEl.style.display =\n",
              "          google.colab.kernel.accessAllowed ? 'block' : 'none';\n",
              "\n",
              "        async function convertToInteractive(key) {\n",
              "          const element = document.querySelector('#df-ef461e8e-a556-4346-ac31-6b912628e4bf');\n",
              "          const dataTable =\n",
              "            await google.colab.kernel.invokeFunction('convertToInteractive',\n",
              "                                                     [key], {});\n",
              "          if (!dataTable) return;\n",
              "\n",
              "          const docLinkHtml = 'Like what you see? Visit the ' +\n",
              "            '<a target=\"_blank\" href=https://colab.research.google.com/notebooks/data_table.ipynb>data table notebook</a>'\n",
              "            + ' to learn more about interactive tables.';\n",
              "          element.innerHTML = '';\n",
              "          dataTable['output_type'] = 'display_data';\n",
              "          await google.colab.output.renderOutput(dataTable, element);\n",
              "          const docLink = document.createElement('div');\n",
              "          docLink.innerHTML = docLinkHtml;\n",
              "          element.appendChild(docLink);\n",
              "        }\n",
              "      </script>\n",
              "    </div>\n",
              "  </div>\n",
              "  "
            ]
          },
          "metadata": {},
          "execution_count": 6
        }
      ]
    },
    {
      "cell_type": "markdown",
      "source": [
        "Booking_ID value shows indexing data and too variate, so this variable is no needed to the next analysis. Lets drop this variable."
      ],
      "metadata": {
        "id": "E4qfKGdCZ5wR"
      }
    },
    {
      "cell_type": "code",
      "source": [
        "#We remove column booking_id without making new dataframe\n",
        "df.drop('Booking_ID',axis=1,inplace=True)\n",
        "df.head()"
      ],
      "metadata": {
        "colab": {
          "base_uri": "https://localhost:8080/",
          "height": 270
        },
        "id": "29iflTbGbNRr",
        "outputId": "3fce5f4d-67cf-49ee-e860-55f4f5a316fc"
      },
      "execution_count": 7,
      "outputs": [
        {
          "output_type": "execute_result",
          "data": {
            "text/plain": [
              "   no_of_adults  no_of_children  no_of_weekend_nights  no_of_week_nights  \\\n",
              "0             2               0                     1                  2   \n",
              "1             2               0                     2                  3   \n",
              "2             1               0                     2                  1   \n",
              "3             2               0                     0                  2   \n",
              "4             2               0                     1                  1   \n",
              "\n",
              "  type_of_meal_plan  required_car_parking_space room_type_reserved  lead_time  \\\n",
              "0       Meal Plan 1                           0        Room_Type 1        224   \n",
              "1      Not Selected                           0        Room_Type 1          5   \n",
              "2       Meal Plan 1                           0        Room_Type 1          1   \n",
              "3       Meal Plan 1                           0        Room_Type 1        211   \n",
              "4      Not Selected                           0        Room_Type 1         48   \n",
              "\n",
              "   arrival_year  arrival_month  arrival_date market_segment_type  \\\n",
              "0          2017             10             2             Offline   \n",
              "1          2018             11             6              Online   \n",
              "2          2018              2            28              Online   \n",
              "3          2018              5            20              Online   \n",
              "4          2018              4            11              Online   \n",
              "\n",
              "   repeated_guest  no_of_previous_cancellations  \\\n",
              "0               0                             0   \n",
              "1               0                             0   \n",
              "2               0                             0   \n",
              "3               0                             0   \n",
              "4               0                             0   \n",
              "\n",
              "   no_of_previous_bookings_not_canceled  avg_price_per_room  \\\n",
              "0                                     0               65.00   \n",
              "1                                     0              106.68   \n",
              "2                                     0               60.00   \n",
              "3                                     0              100.00   \n",
              "4                                     0               94.50   \n",
              "\n",
              "   no_of_special_requests booking_status  \n",
              "0                       0   Not_Canceled  \n",
              "1                       1   Not_Canceled  \n",
              "2                       0       Canceled  \n",
              "3                       0       Canceled  \n",
              "4                       0       Canceled  "
            ],
            "text/html": [
              "\n",
              "  <div id=\"df-da1f721d-31d1-4de2-949e-1dcb5e59b45e\">\n",
              "    <div class=\"colab-df-container\">\n",
              "      <div>\n",
              "<style scoped>\n",
              "    .dataframe tbody tr th:only-of-type {\n",
              "        vertical-align: middle;\n",
              "    }\n",
              "\n",
              "    .dataframe tbody tr th {\n",
              "        vertical-align: top;\n",
              "    }\n",
              "\n",
              "    .dataframe thead th {\n",
              "        text-align: right;\n",
              "    }\n",
              "</style>\n",
              "<table border=\"1\" class=\"dataframe\">\n",
              "  <thead>\n",
              "    <tr style=\"text-align: right;\">\n",
              "      <th></th>\n",
              "      <th>no_of_adults</th>\n",
              "      <th>no_of_children</th>\n",
              "      <th>no_of_weekend_nights</th>\n",
              "      <th>no_of_week_nights</th>\n",
              "      <th>type_of_meal_plan</th>\n",
              "      <th>required_car_parking_space</th>\n",
              "      <th>room_type_reserved</th>\n",
              "      <th>lead_time</th>\n",
              "      <th>arrival_year</th>\n",
              "      <th>arrival_month</th>\n",
              "      <th>arrival_date</th>\n",
              "      <th>market_segment_type</th>\n",
              "      <th>repeated_guest</th>\n",
              "      <th>no_of_previous_cancellations</th>\n",
              "      <th>no_of_previous_bookings_not_canceled</th>\n",
              "      <th>avg_price_per_room</th>\n",
              "      <th>no_of_special_requests</th>\n",
              "      <th>booking_status</th>\n",
              "    </tr>\n",
              "  </thead>\n",
              "  <tbody>\n",
              "    <tr>\n",
              "      <th>0</th>\n",
              "      <td>2</td>\n",
              "      <td>0</td>\n",
              "      <td>1</td>\n",
              "      <td>2</td>\n",
              "      <td>Meal Plan 1</td>\n",
              "      <td>0</td>\n",
              "      <td>Room_Type 1</td>\n",
              "      <td>224</td>\n",
              "      <td>2017</td>\n",
              "      <td>10</td>\n",
              "      <td>2</td>\n",
              "      <td>Offline</td>\n",
              "      <td>0</td>\n",
              "      <td>0</td>\n",
              "      <td>0</td>\n",
              "      <td>65.00</td>\n",
              "      <td>0</td>\n",
              "      <td>Not_Canceled</td>\n",
              "    </tr>\n",
              "    <tr>\n",
              "      <th>1</th>\n",
              "      <td>2</td>\n",
              "      <td>0</td>\n",
              "      <td>2</td>\n",
              "      <td>3</td>\n",
              "      <td>Not Selected</td>\n",
              "      <td>0</td>\n",
              "      <td>Room_Type 1</td>\n",
              "      <td>5</td>\n",
              "      <td>2018</td>\n",
              "      <td>11</td>\n",
              "      <td>6</td>\n",
              "      <td>Online</td>\n",
              "      <td>0</td>\n",
              "      <td>0</td>\n",
              "      <td>0</td>\n",
              "      <td>106.68</td>\n",
              "      <td>1</td>\n",
              "      <td>Not_Canceled</td>\n",
              "    </tr>\n",
              "    <tr>\n",
              "      <th>2</th>\n",
              "      <td>1</td>\n",
              "      <td>0</td>\n",
              "      <td>2</td>\n",
              "      <td>1</td>\n",
              "      <td>Meal Plan 1</td>\n",
              "      <td>0</td>\n",
              "      <td>Room_Type 1</td>\n",
              "      <td>1</td>\n",
              "      <td>2018</td>\n",
              "      <td>2</td>\n",
              "      <td>28</td>\n",
              "      <td>Online</td>\n",
              "      <td>0</td>\n",
              "      <td>0</td>\n",
              "      <td>0</td>\n",
              "      <td>60.00</td>\n",
              "      <td>0</td>\n",
              "      <td>Canceled</td>\n",
              "    </tr>\n",
              "    <tr>\n",
              "      <th>3</th>\n",
              "      <td>2</td>\n",
              "      <td>0</td>\n",
              "      <td>0</td>\n",
              "      <td>2</td>\n",
              "      <td>Meal Plan 1</td>\n",
              "      <td>0</td>\n",
              "      <td>Room_Type 1</td>\n",
              "      <td>211</td>\n",
              "      <td>2018</td>\n",
              "      <td>5</td>\n",
              "      <td>20</td>\n",
              "      <td>Online</td>\n",
              "      <td>0</td>\n",
              "      <td>0</td>\n",
              "      <td>0</td>\n",
              "      <td>100.00</td>\n",
              "      <td>0</td>\n",
              "      <td>Canceled</td>\n",
              "    </tr>\n",
              "    <tr>\n",
              "      <th>4</th>\n",
              "      <td>2</td>\n",
              "      <td>0</td>\n",
              "      <td>1</td>\n",
              "      <td>1</td>\n",
              "      <td>Not Selected</td>\n",
              "      <td>0</td>\n",
              "      <td>Room_Type 1</td>\n",
              "      <td>48</td>\n",
              "      <td>2018</td>\n",
              "      <td>4</td>\n",
              "      <td>11</td>\n",
              "      <td>Online</td>\n",
              "      <td>0</td>\n",
              "      <td>0</td>\n",
              "      <td>0</td>\n",
              "      <td>94.50</td>\n",
              "      <td>0</td>\n",
              "      <td>Canceled</td>\n",
              "    </tr>\n",
              "  </tbody>\n",
              "</table>\n",
              "</div>\n",
              "      <button class=\"colab-df-convert\" onclick=\"convertToInteractive('df-da1f721d-31d1-4de2-949e-1dcb5e59b45e')\"\n",
              "              title=\"Convert this dataframe to an interactive table.\"\n",
              "              style=\"display:none;\">\n",
              "        \n",
              "  <svg xmlns=\"http://www.w3.org/2000/svg\" height=\"24px\"viewBox=\"0 0 24 24\"\n",
              "       width=\"24px\">\n",
              "    <path d=\"M0 0h24v24H0V0z\" fill=\"none\"/>\n",
              "    <path d=\"M18.56 5.44l.94 2.06.94-2.06 2.06-.94-2.06-.94-.94-2.06-.94 2.06-2.06.94zm-11 1L8.5 8.5l.94-2.06 2.06-.94-2.06-.94L8.5 2.5l-.94 2.06-2.06.94zm10 10l.94 2.06.94-2.06 2.06-.94-2.06-.94-.94-2.06-.94 2.06-2.06.94z\"/><path d=\"M17.41 7.96l-1.37-1.37c-.4-.4-.92-.59-1.43-.59-.52 0-1.04.2-1.43.59L10.3 9.45l-7.72 7.72c-.78.78-.78 2.05 0 2.83L4 21.41c.39.39.9.59 1.41.59.51 0 1.02-.2 1.41-.59l7.78-7.78 2.81-2.81c.8-.78.8-2.07 0-2.86zM5.41 20L4 18.59l7.72-7.72 1.47 1.35L5.41 20z\"/>\n",
              "  </svg>\n",
              "      </button>\n",
              "      \n",
              "  <style>\n",
              "    .colab-df-container {\n",
              "      display:flex;\n",
              "      flex-wrap:wrap;\n",
              "      gap: 12px;\n",
              "    }\n",
              "\n",
              "    .colab-df-convert {\n",
              "      background-color: #E8F0FE;\n",
              "      border: none;\n",
              "      border-radius: 50%;\n",
              "      cursor: pointer;\n",
              "      display: none;\n",
              "      fill: #1967D2;\n",
              "      height: 32px;\n",
              "      padding: 0 0 0 0;\n",
              "      width: 32px;\n",
              "    }\n",
              "\n",
              "    .colab-df-convert:hover {\n",
              "      background-color: #E2EBFA;\n",
              "      box-shadow: 0px 1px 2px rgba(60, 64, 67, 0.3), 0px 1px 3px 1px rgba(60, 64, 67, 0.15);\n",
              "      fill: #174EA6;\n",
              "    }\n",
              "\n",
              "    [theme=dark] .colab-df-convert {\n",
              "      background-color: #3B4455;\n",
              "      fill: #D2E3FC;\n",
              "    }\n",
              "\n",
              "    [theme=dark] .colab-df-convert:hover {\n",
              "      background-color: #434B5C;\n",
              "      box-shadow: 0px 1px 3px 1px rgba(0, 0, 0, 0.15);\n",
              "      filter: drop-shadow(0px 1px 2px rgba(0, 0, 0, 0.3));\n",
              "      fill: #FFFFFF;\n",
              "    }\n",
              "  </style>\n",
              "\n",
              "      <script>\n",
              "        const buttonEl =\n",
              "          document.querySelector('#df-da1f721d-31d1-4de2-949e-1dcb5e59b45e button.colab-df-convert');\n",
              "        buttonEl.style.display =\n",
              "          google.colab.kernel.accessAllowed ? 'block' : 'none';\n",
              "\n",
              "        async function convertToInteractive(key) {\n",
              "          const element = document.querySelector('#df-da1f721d-31d1-4de2-949e-1dcb5e59b45e');\n",
              "          const dataTable =\n",
              "            await google.colab.kernel.invokeFunction('convertToInteractive',\n",
              "                                                     [key], {});\n",
              "          if (!dataTable) return;\n",
              "\n",
              "          const docLinkHtml = 'Like what you see? Visit the ' +\n",
              "            '<a target=\"_blank\" href=https://colab.research.google.com/notebooks/data_table.ipynb>data table notebook</a>'\n",
              "            + ' to learn more about interactive tables.';\n",
              "          element.innerHTML = '';\n",
              "          dataTable['output_type'] = 'display_data';\n",
              "          await google.colab.output.renderOutput(dataTable, element);\n",
              "          const docLink = document.createElement('div');\n",
              "          docLink.innerHTML = docLinkHtml;\n",
              "          element.appendChild(docLink);\n",
              "        }\n",
              "      </script>\n",
              "    </div>\n",
              "  </div>\n",
              "  "
            ]
          },
          "metadata": {},
          "execution_count": 7
        }
      ]
    },
    {
      "cell_type": "code",
      "source": [
        "# Looking for data types non null entries\n",
        "df.info()"
      ],
      "metadata": {
        "colab": {
          "base_uri": "https://localhost:8080/"
        },
        "id": "Y2T1byO75jOp",
        "outputId": "d6681a4e-2bca-455f-a5e5-9b5bc1d03842"
      },
      "execution_count": 8,
      "outputs": [
        {
          "output_type": "stream",
          "name": "stdout",
          "text": [
            "<class 'pandas.core.frame.DataFrame'>\n",
            "RangeIndex: 36275 entries, 0 to 36274\n",
            "Data columns (total 18 columns):\n",
            " #   Column                                Non-Null Count  Dtype  \n",
            "---  ------                                --------------  -----  \n",
            " 0   no_of_adults                          36275 non-null  int64  \n",
            " 1   no_of_children                        36275 non-null  int64  \n",
            " 2   no_of_weekend_nights                  36275 non-null  int64  \n",
            " 3   no_of_week_nights                     36275 non-null  int64  \n",
            " 4   type_of_meal_plan                     36275 non-null  object \n",
            " 5   required_car_parking_space            36275 non-null  int64  \n",
            " 6   room_type_reserved                    36275 non-null  object \n",
            " 7   lead_time                             36275 non-null  int64  \n",
            " 8   arrival_year                          36275 non-null  int64  \n",
            " 9   arrival_month                         36275 non-null  int64  \n",
            " 10  arrival_date                          36275 non-null  int64  \n",
            " 11  market_segment_type                   36275 non-null  object \n",
            " 12  repeated_guest                        36275 non-null  int64  \n",
            " 13  no_of_previous_cancellations          36275 non-null  int64  \n",
            " 14  no_of_previous_bookings_not_canceled  36275 non-null  int64  \n",
            " 15  avg_price_per_room                    36275 non-null  float64\n",
            " 16  no_of_special_requests                36275 non-null  int64  \n",
            " 17  booking_status                        36275 non-null  object \n",
            "dtypes: float64(1), int64(13), object(4)\n",
            "memory usage: 5.0+ MB\n"
          ]
        }
      ]
    },
    {
      "cell_type": "code",
      "source": [
        "print(f' Now we have total {df.shape[0]} rows and {df.shape[1]} columns.')"
      ],
      "metadata": {
        "colab": {
          "base_uri": "https://localhost:8080/"
        },
        "id": "b7bluaX2cxM2",
        "outputId": "e4dec0e8-d983-4575-897c-b79923465b69"
      },
      "execution_count": 9,
      "outputs": [
        {
          "output_type": "stream",
          "name": "stdout",
          "text": [
            " Now we have total 36275 rows and 18 columns.\n"
          ]
        }
      ]
    },
    {
      "cell_type": "markdown",
      "source": [
        "### Data Cleaning"
      ],
      "metadata": {
        "id": "eJcVjmVVDZf1"
      }
    },
    {
      "cell_type": "code",
      "source": [
        "# checking for the duplicate rows\n",
        "print(f' We have total {df.duplicated().sum()} duplicates.')\n",
        "# Visulizing through Count pot\n",
        "plt.figure(figsize=(10,8))\n",
        "print(sns.countplot(x=df.duplicated()))"
      ],
      "metadata": {
        "colab": {
          "base_uri": "https://localhost:8080/",
          "height": 518
        },
        "id": "854taoOoZ2CD",
        "outputId": "3ffadbd7-790d-4b92-cffb-5afb32916c0f"
      },
      "execution_count": 10,
      "outputs": [
        {
          "output_type": "stream",
          "name": "stdout",
          "text": [
            " We have total 10275 duplicates.\n",
            "AxesSubplot(0.125,0.125;0.775x0.755)\n"
          ]
        },
        {
          "output_type": "display_data",
          "data": {
            "text/plain": [
              "<Figure size 720x576 with 1 Axes>"
            ],
            "image/png": "[encoded data removed]"
          },
          "metadata": {
            "needs_background": "light"
          }
        }
      ]
    },
    {
      "cell_type": "markdown",
      "source": [
        "So we have 0 duplicate rows in our data."
      ],
      "metadata": {
        "id": "V3hHHCDgK-3K"
      }
    },
    {
      "cell_type": "code",
      "source": [
        "#checking for Null Values\n",
        "print(df.isna().sum().sort_values(ascending=False).reset_index().rename(columns={'index':'Columns',0:'Null values'}))\n",
        "sns.heatmap(df.isnull(), cbar=False)\n",
        "plt.title('Heatmap Missing Value')\n",
        "print(plt.show())"
      ],
      "metadata": {
        "colab": {
          "base_uri": "https://localhost:8080/",
          "height": 814
        },
        "id": "Y7jE1b8Agcdf",
        "outputId": "2c9161b7-dc95-4678-fe59-b9f9c7c03187"
      },
      "execution_count": 11,
      "outputs": [
        {
          "output_type": "stream",
          "name": "stdout",
          "text": [
            "                                 Columns  Null values\n",
            "0                           no_of_adults            0\n",
            "1                         no_of_children            0\n",
            "2                 no_of_special_requests            0\n",
            "3                     avg_price_per_room            0\n",
            "4   no_of_previous_bookings_not_canceled            0\n",
            "5           no_of_previous_cancellations            0\n",
            "6                         repeated_guest            0\n",
            "7                    market_segment_type            0\n",
            "8                           arrival_date            0\n",
            "9                          arrival_month            0\n",
            "10                          arrival_year            0\n",
            "11                             lead_time            0\n",
            "12                    room_type_reserved            0\n",
            "13            required_car_parking_space            0\n",
            "14                     type_of_meal_plan            0\n",
            "15                     no_of_week_nights            0\n",
            "16                  no_of_weekend_nights            0\n",
            "17                        booking_status            0\n"
          ]
        },
        {
          "output_type": "display_data",
          "data": {
            "text/plain": [
              "<Figure size 432x288 with 1 Axes>"
            ],
            "image/png": "[encoded data removed]"
          },
          "metadata": {
            "needs_background": "light"
          }
        },
        {
          "output_type": "stream",
          "name": "stdout",
          "text": [
            "None\n"
          ]
        }
      ]
    },
    {
      "cell_type": "markdown",
      "source": [
        "So we don't have Null values in our data."
      ],
      "metadata": {
        "id": "a6AZy1RsSY2x"
      }
    },
    {
      "cell_type": "code",
      "source": [
        "# Checking number of categories data for all variable\n",
        "df.nunique()"
      ],
      "metadata": {
        "colab": {
          "base_uri": "https://localhost:8080/"
        },
        "id": "pyEl_uOYBmyX",
        "outputId": "71816550-0d7a-4f72-f8b8-3345669f1407"
      },
      "execution_count": 12,
      "outputs": [
        {
          "output_type": "execute_result",
          "data": {
            "text/plain": [
              "no_of_adults                               5\n",
              "no_of_children                             6\n",
              "no_of_weekend_nights                       8\n",
              "no_of_week_nights                         18\n",
              "type_of_meal_plan                          4\n",
              "required_car_parking_space                 2\n",
              "room_type_reserved                         7\n",
              "lead_time                                352\n",
              "arrival_year                               2\n",
              "arrival_month                             12\n",
              "arrival_date                              31\n",
              "market_segment_type                        5\n",
              "repeated_guest                             2\n",
              "no_of_previous_cancellations               9\n",
              "no_of_previous_bookings_not_canceled      59\n",
              "avg_price_per_room                      3930\n",
              "no_of_special_requests                     6\n",
              "booking_status                             2\n",
              "dtype: int64"
            ]
          },
          "metadata": {},
          "execution_count": 12
        }
      ]
    },
    {
      "cell_type": "code",
      "source": [
        "# Checking the unique values in categorical columns.\n",
        "categorical_cols=list(set(df)-set(df.describe()))\n",
        "\n",
        "for col in categorical_cols:\n",
        "  print(f'Unique values in column {col} are: {(df[col].unique())}')"
      ],
      "metadata": {
        "colab": {
          "base_uri": "https://localhost:8080/"
        },
        "id": "wNJLsyeAMNhL",
        "outputId": "e7fc0410-eb4e-4fcd-d616-4937673c3b00"
      },
      "execution_count": 13,
      "outputs": [
        {
          "output_type": "stream",
          "name": "stdout",
          "text": [
            "Unique values in column market_segment_type are: ['Offline' 'Online' 'Corporate' 'Aviation' 'Complementary']\n",
            "Unique values in column booking_status are: ['Not_Canceled' 'Canceled']\n",
            "Unique values in column room_type_reserved are: ['Room_Type 1' 'Room_Type 4' 'Room_Type 2' 'Room_Type 6' 'Room_Type 5'\n",
            " 'Room_Type 7' 'Room_Type 3']\n",
            "Unique values in column type_of_meal_plan are: ['Meal Plan 1' 'Not Selected' 'Meal Plan 2' 'Meal Plan 3']\n"
          ]
        }
      ]
    },
    {
      "cell_type": "code",
      "source": [
        "# lets add some new columns\n",
        "\n",
        "df['total_people'] = df['no_of_adults'] + df['no_of_children']   \n",
        "df['total_stay'] = df['no_of_weekend_nights'] + df['no_of_week_nights']\n",
        "print(f' Now we have total {df.shape[0]} rows and {df.shape[1]} columns.')   "
      ],
      "metadata": {
        "colab": {
          "base_uri": "https://localhost:8080/"
        },
        "id": "PLrnCOBxUTOe",
        "outputId": "b5e90e7e-f474-4487-db70-9ac8789746ea"
      },
      "execution_count": 14,
      "outputs": [
        {
          "output_type": "stream",
          "name": "stdout",
          "text": [
            " Now we have total 36275 rows and 20 columns.\n"
          ]
        }
      ]
    },
    {
      "cell_type": "markdown",
      "source": [
        "##Exploratory Data Analysis (EDA)"
      ],
      "metadata": {
        "id": "MLH_0i0HVR4F"
      }
    },
    {
      "cell_type": "markdown",
      "source": [
        "**1) What is the pecentage of cancellation?**"
      ],
      "metadata": {
        "id": "V5ov4NwPdqDL"
      }
    },
    {
      "cell_type": "code",
      "source": [
        "# Visualizing by pie chart.\n",
        "df['booking_status'].value_counts().plot.pie(explode=[0.05, 0.05], autopct='%1.1f%%', shadow=True, figsize=(10,8),fontsize=20)   \n",
        "plt.title('Cancellation and non Cancellation')"
      ],
      "metadata": {
        "colab": {
          "base_uri": "https://localhost:8080/",
          "height": 499
        },
        "id": "CGh2CBzEdfF0",
        "outputId": "88eac9fd-a857-4069-d3c3-8f1b956130c2"
      },
      "execution_count": 15,
      "outputs": [
        {
          "output_type": "execute_result",
          "data": {
            "text/plain": [
              "Text(0.5, 1.0, 'Cancellation and non Cancellation')"
            ]
          },
          "metadata": {},
          "execution_count": 15
        },
        {
          "output_type": "display_data",
          "data": {
            "text/plain": [
              "<Figure size 720x576 with 1 Axes>"
            ],
            "image/png": "[encoded data removed]"
          },
          "metadata": {}
        }
      ]
    },
    {
      "cell_type": "markdown",
      "source": [
        "32.8 % of the bookings were cancelled."
      ],
      "metadata": {
        "id": "_TT_u5iYfAXb"
      }
    },
    {
      "cell_type": "markdown",
      "source": [
        "**2) Which type of food is mostly preferred by the guests?**"
      ],
      "metadata": {
        "id": "ppdr8GG8k01G"
      }
    },
    {
      "cell_type": "code",
      "source": [
        "# Visualizing by bar chart.\n",
        "plt.figure(figsize=(18,8))\n",
        "sns.countplot(x=df['type_of_meal_plan'])\n",
        "plt.xlabel('Meal Type')\n",
        "plt.ylabel('Count')\n",
        "plt.title(\"Preferred Meal Type\")"
      ],
      "metadata": {
        "colab": {
          "base_uri": "https://localhost:8080/",
          "height": 471
        },
        "id": "PIUqy_dFkdzH",
        "outputId": "869d3de0-0be6-48fb-ac3b-3733b2eb6345"
      },
      "execution_count": 16,
      "outputs": [
        {
          "output_type": "execute_result",
          "data": {
            "text/plain": [
              "Text(0.5, 1.0, 'Preferred Meal Type')"
            ]
          },
          "metadata": {},
          "execution_count": 16
        },
        {
          "output_type": "display_data",
          "data": {
            "text/plain": [
              "<Figure size 1296x576 with 1 Axes>"
            ],
            "image/png": "[encoded data removed]"
          },
          "metadata": {
            "needs_background": "light"
          }
        }
      ]
    },
    {
      "cell_type": "markdown",
      "source": [
        "So the most preferred plan meal type by the guests is Meal Plan 1"
      ],
      "metadata": {
        "id": "mJRVynGGouD2"
      }
    },
    {
      "cell_type": "markdown",
      "source": [
        "**3) What is the percentage distribution of required_car_parking_spaces?**"
      ],
      "metadata": {
        "id": "-F8QG3NClqtH"
      }
    },
    {
      "cell_type": "code",
      "source": [
        "df['required_car_parking_space'].value_counts().plot.pie(explode=[0.05]*2, autopct='%1.1f%%',shadow=False,figsize=(12,8),fontsize=15)\n",
        "\n",
        "labels=df['required_car_parking_space'].value_counts().index\n",
        "plt.title('% Distribution of required car parking spaces')\n",
        "plt.legend(bbox_to_anchor=(0.85, 1), loc='upper left', labels=labels)"
      ],
      "metadata": {
        "colab": {
          "base_uri": "https://localhost:8080/",
          "height": 499
        },
        "id": "yO6U3l4glptZ",
        "outputId": "5f14fb2d-fef7-4eca-e3a1-046db1296744"
      },
      "execution_count": 17,
      "outputs": [
        {
          "output_type": "execute_result",
          "data": {
            "text/plain": [
              "<matplotlib.legend.Legend at 0x7f2b3e3972e0>"
            ]
          },
          "metadata": {},
          "execution_count": 17
        },
        {
          "output_type": "display_data",
          "data": {
            "text/plain": [
              "<Figure size 864x576 with 1 Axes>"
            ],
            "image/png": "[encoded data removed]"
          },
          "metadata": {}
        }
      ]
    },
    {
      "cell_type": "markdown",
      "source": [
        "96.9 % guests did not required the parking space. only 3.1 % guests required only 1 parking space."
      ],
      "metadata": {
        "id": "mVh3kmuAof40"
      }
    },
    {
      "cell_type": "markdown",
      "source": [
        "**4) Which is the most preferred room type by the customers?**"
      ],
      "metadata": {
        "id": "AVaS6Fp1fPVp"
      }
    },
    {
      "cell_type": "code",
      "source": [
        "#set plotsize\n",
        "plt.figure(figsize=(18,8))\n",
        "\n",
        "#plotting \n",
        "sns.countplot(x=df['room_type_reserved'],order=df['room_type_reserved'].value_counts().index)\n",
        "#  set xlabel for the plot\n",
        "plt.xlabel('Room Type')\n",
        "# set y label for the plot\n",
        "plt.ylabel('Count of Room Type')\n",
        "#set title for the plot\n",
        "plt.title(\"Most preferred Room type\")"
      ],
      "metadata": {
        "colab": {
          "base_uri": "https://localhost:8080/",
          "height": 472
        },
        "id": "ffAcnT_cfEQV",
        "outputId": "3e2d4567-aa1c-47e3-d16b-609bfe4cb185"
      },
      "execution_count": 18,
      "outputs": [
        {
          "output_type": "execute_result",
          "data": {
            "text/plain": [
              "Text(0.5, 1.0, 'Most preferred Room type')"
            ]
          },
          "metadata": {},
          "execution_count": 18
        },
        {
          "output_type": "display_data",
          "data": {
            "text/plain": [
              "<Figure size 1296x576 with 1 Axes>"
            ],
            "image/png": "[encoded data removed]"
          },
          "metadata": {
            "needs_background": "light"
          }
        }
      ]
    },
    {
      "cell_type": "markdown",
      "source": [
        "So the most preferred Room type is \"Type 1\"."
      ],
      "metadata": {
        "id": "tfouD4MtoKga"
      }
    },
    {
      "cell_type": "markdown",
      "source": [
        "**5) Which year had the highest bookings?**"
      ],
      "metadata": {
        "id": "GlTB1F6NumT9"
      }
    },
    {
      "cell_type": "code",
      "source": [
        "# set plot size\n",
        "plt.figure(figsize=(12,8))\n",
        "\n",
        "#  plot with countplot\n",
        "sns.countplot(x=df['arrival_year'],hue=df['booking_status'])\n",
        "plt.title(\"Year Wise Bookings Statu\")"
      ],
      "metadata": {
        "colab": {
          "base_uri": "https://localhost:8080/",
          "height": 531
        },
        "id": "B5eUES0PurLR",
        "outputId": "a1b7b81a-bc84-4045-f370-8448f76d1404"
      },
      "execution_count": 19,
      "outputs": [
        {
          "output_type": "execute_result",
          "data": {
            "text/plain": [
              "Text(0.5, 1.0, 'Year Wise Bookings Statu')"
            ]
          },
          "metadata": {},
          "execution_count": 19
        },
        {
          "output_type": "display_data",
          "data": {
            "text/plain": [
              "<Figure size 864x576 with 1 Axes>"
            ],
            "image/png": "[encoded data removed]"
          },
          "metadata": {
            "needs_background": "light"
          }
        }
      ]
    },
    {
      "cell_type": "markdown",
      "source": [
        "2018 had the higest bookings, but have the higest canceled booking.\n",
        "2017 had less bookings, but less the cancelation.\n",
        "overall Cancelled booking most hapanned on 2018."
      ],
      "metadata": {
        "id": "FksSPA5HvDg6"
      }
    },
    {
      "cell_type": "markdown",
      "source": [
        "**6) In which month most of the cancel bookings happened?**"
      ],
      "metadata": {
        "id": "5_56LHTTsN84"
      }
    },
    {
      "cell_type": "code",
      "source": [
        "# set plot size\n",
        "plt.figure(figsize=(12,8))\n",
        "\n",
        "#  plot with countplot\n",
        "sns.countplot(x=df['arrival_month'],hue=df['booking_status'])\n",
        "plt.title(\"Month Wise bookings Status\")\n"
      ],
      "metadata": {
        "colab": {
          "base_uri": "https://localhost:8080/",
          "height": 531
        },
        "id": "EmT6DUUYoPim",
        "outputId": "2db8235f-0a65-4044-c8cc-64e81e1345e1"
      },
      "execution_count": 20,
      "outputs": [
        {
          "output_type": "execute_result",
          "data": {
            "text/plain": [
              "Text(0.5, 1.0, 'Month Wise bookings Status')"
            ]
          },
          "metadata": {},
          "execution_count": 20
        },
        {
          "output_type": "display_data",
          "data": {
            "text/plain": [
              "<Figure size 864x576 with 1 Axes>"
            ],
            "image/png": "[encoded data removed]"
          },
          "metadata": {
            "needs_background": "light"
          }
        }
      ]
    },
    {
      "cell_type": "markdown",
      "source": [
        "September (9) and October (10) months had the most booking and Cancel Bookings."
      ],
      "metadata": {
        "id": "NcOLpxhL3ENe"
      }
    },
    {
      "cell_type": "markdown",
      "source": [
        "**7)  In which date most of the cancel bookings happened?**"
      ],
      "metadata": {
        "id": "1xL7_zPUA-vD"
      }
    },
    {
      "cell_type": "code",
      "source": [
        "# set plot size\n",
        "plt.figure(figsize=(12,8))\n",
        "\n",
        "#  plot with countplot\n",
        "sns.countplot(x=df['arrival_date'],hue=df['booking_status'])\n",
        "plt.title(\"Date Wise bookings Status\")"
      ],
      "metadata": {
        "colab": {
          "base_uri": "https://localhost:8080/",
          "height": 531
        },
        "id": "Mq4_L5lR-qeu",
        "outputId": "99f9eeec-fcc9-4f66-d2e6-e414b0611113"
      },
      "execution_count": 21,
      "outputs": [
        {
          "output_type": "execute_result",
          "data": {
            "text/plain": [
              "Text(0.5, 1.0, 'Date Wise bookings Status')"
            ]
          },
          "metadata": {},
          "execution_count": 21
        },
        {
          "output_type": "display_data",
          "data": {
            "text/plain": [
              "<Figure size 864x576 with 1 Axes>"
            ],
            "image/png": "[encoded data removed]"
          },
          "metadata": {
            "needs_background": "light"
          }
        }
      ]
    },
    {
      "cell_type": "markdown",
      "source": [
        "the graph shows booking canceled has low tren arrival date wise, because nothing date most of the cancel bookings happened, graph has fluctuative."
      ],
      "metadata": {
        "id": "7viu_xK7_Z8j"
      }
    },
    {
      "cell_type": "markdown",
      "source": [
        "**8) Which Market Segment Type has the higest cancellation rate**"
      ],
      "metadata": {
        "id": "pAT19HTqBegd"
      }
    },
    {
      "cell_type": "code",
      "source": [
        "# set plot size\n",
        "plt.figure(figsize=(12,8))\n",
        "\n",
        "#  plot with countplot\n",
        "sns.countplot(x=df['market_segment_type'],hue=df['booking_status'])\n",
        "plt.title(\"Market Segmen Type Wise bookings Status\")"
      ],
      "metadata": {
        "colab": {
          "base_uri": "https://localhost:8080/",
          "height": 531
        },
        "id": "_Tf7fEpWBs3n",
        "outputId": "ba5b6f43-d3e5-40c2-bdfd-75dcd9fbe5b7"
      },
      "execution_count": 22,
      "outputs": [
        {
          "output_type": "execute_result",
          "data": {
            "text/plain": [
              "Text(0.5, 1.0, 'Market Segmen Type Wise bookings Status')"
            ]
          },
          "metadata": {},
          "execution_count": 22
        },
        {
          "output_type": "display_data",
          "data": {
            "text/plain": [
              "<Figure size 864x576 with 1 Axes>"
            ],
            "image/png": "[encoded data removed]"
          },
          "metadata": {
            "needs_background": "light"
          }
        }
      ]
    },
    {
      "cell_type": "markdown",
      "source": [
        "Booking by online had the higest booking, but it makes the highest canceled booking. It can happend because this is often made easier by the option to do."
      ],
      "metadata": {
        "id": "1cZyVhOTD_Yn"
      }
    },
    {
      "cell_type": "markdown",
      "source": [
        "**9) What is the Percentage of repeated guests?**"
      ],
      "metadata": {
        "id": "YgTqSwDWExB5"
      }
    },
    {
      "cell_type": "code",
      "source": [
        "df['repeated_guest'].value_counts().plot.pie(explode=[0.05]*2, autopct='%1.1f%%',shadow=False,figsize=(12,8),fontsize=15)\n",
        "\n",
        "labels=df['repeated_guest'].value_counts().index\n",
        "plt.title('Percentage of Repeated Guest')\n",
        "plt.legend(bbox_to_anchor=(0.85, 1), loc='upper left', labels=labels)"
      ],
      "metadata": {
        "colab": {
          "base_uri": "https://localhost:8080/",
          "height": 499
        },
        "id": "tbuT5vkyF8xy",
        "outputId": "e7a044b2-8f77-40df-e9eb-cbb05633fc2a"
      },
      "execution_count": 23,
      "outputs": [
        {
          "output_type": "execute_result",
          "data": {
            "text/plain": [
              "<matplotlib.legend.Legend at 0x7f2b3dfa25e0>"
            ]
          },
          "metadata": {},
          "execution_count": 23
        },
        {
          "output_type": "display_data",
          "data": {
            "text/plain": [
              "<Figure size 864x576 with 1 Axes>"
            ],
            "image/png": "[encoded data removed]"
          },
          "metadata": {}
        }
      ]
    },
    {
      "cell_type": "markdown",
      "source": [
        "Repeated guests are very few which only 2.6 %.\n",
        "In order to retained the guests management should take feedbacks from guests and try to imporve the services."
      ],
      "metadata": {
        "id": "P5GrXTvRJkI3"
      }
    },
    {
      "cell_type": "markdown",
      "source": [
        "**10) Which Booking Status has the more lead time?**"
      ],
      "metadata": {
        "id": "3YeooPYbLRgK"
      }
    },
    {
      "cell_type": "code",
      "source": [
        "#group by booking status and taking mean of lead time\n",
        "grup_by_status=df.groupby('booking_status')\n",
        "\n",
        "avg_lead_time=grup_by_status['lead_time'].mean().reset_index()\n",
        "\n",
        "#set plot size\n",
        "plt.figure(figsize=(10,8))\n",
        "\n",
        "# plot the bar plot\n",
        "sns.barplot(x=avg_lead_time['booking_status'],y=avg_lead_time['lead_time'])\n",
        "# set lables\n",
        "plt.xlabel('Booking Status')\n",
        "plt.ylabel('Average Lead time')\n",
        "plt.title(\"Average Lead Time for each Booking Status\")"
      ],
      "metadata": {
        "colab": {
          "base_uri": "https://localhost:8080/",
          "height": 531
        },
        "id": "W-cJk63XNe3-",
        "outputId": "27dc8d8b-9bc0-42d4-94cc-e12b2929a946"
      },
      "execution_count": 24,
      "outputs": [
        {
          "output_type": "execute_result",
          "data": {
            "text/plain": [
              "Text(0.5, 1.0, 'Average Lead Time for each Booking Status')"
            ]
          },
          "metadata": {},
          "execution_count": 24
        },
        {
          "output_type": "display_data",
          "data": {
            "text/plain": [
              "<Figure size 720x576 with 1 Axes>"
            ],
            "image/png": "[encoded data removed]"
          },
          "metadata": {
            "needs_background": "light"
          }
        }
      ]
    },
    {
      "cell_type": "markdown",
      "source": [
        "Canceled booking has slightly high avg lead time. That means customers with early booking liable to cancel their trips."
      ],
      "metadata": {
        "id": "Pk2YlRR2QJih"
      }
    },
    {
      "cell_type": "markdown",
      "source": [
        "**11) What is the most visitor in both types booking status ?**"
      ],
      "metadata": {
        "id": "S0y3Lpa3SxzU"
      }
    },
    {
      "cell_type": "code",
      "source": [
        "# set plot size\n",
        "plt.figure(figsize=(12,8))\n",
        "\n",
        "#  plot with countplot\n",
        "sns.countplot(x=df['no_of_adults'],hue=df['booking_status'])\n",
        "plt.title(\"Number of Adults Wise bookings Status\")"
      ],
      "metadata": {
        "colab": {
          "base_uri": "https://localhost:8080/",
          "height": 531
        },
        "id": "VqIyC7B-S6kC",
        "outputId": "1f154b28-5fdc-4a60-a246-d33219254d6e"
      },
      "execution_count": 25,
      "outputs": [
        {
          "output_type": "execute_result",
          "data": {
            "text/plain": [
              "Text(0.5, 1.0, 'Number of Adults Wise bookings Status')"
            ]
          },
          "metadata": {},
          "execution_count": 25
        },
        {
          "output_type": "display_data",
          "data": {
            "text/plain": [
              "<Figure size 864x576 with 1 Axes>"
            ],
            "image/png": "[encoded data removed]"
          },
          "metadata": {
            "needs_background": "light"
          }
        }
      ]
    },
    {
      "cell_type": "code",
      "source": [
        "# set plot size\n",
        "plt.figure(figsize=(12,8))\n",
        "\n",
        "#  plot with countplot\n",
        "sns.countplot(x=df['no_of_children'],hue=df['booking_status'])\n",
        "plt.title(\"Number of Children Wise bookings Status\")"
      ],
      "metadata": {
        "colab": {
          "base_uri": "https://localhost:8080/",
          "height": 531
        },
        "id": "O1SZ7q1NTR4T",
        "outputId": "285982c4-36fc-4d0d-f962-3491db5acff3"
      },
      "execution_count": 26,
      "outputs": [
        {
          "output_type": "execute_result",
          "data": {
            "text/plain": [
              "Text(0.5, 1.0, 'Number of Children Wise bookings Status')"
            ]
          },
          "metadata": {},
          "execution_count": 26
        },
        {
          "output_type": "display_data",
          "data": {
            "text/plain": [
              "<Figure size 864x576 with 1 Axes>"
            ],
            "image/png": "[encoded data removed]"
          },
          "metadata": {
            "needs_background": "light"
          }
        }
      ]
    },
    {
      "cell_type": "markdown",
      "source": [
        "the most of visitor booking or booking cancel is visitor with no children"
      ],
      "metadata": {
        "id": "A4Ln_X4rXmf5"
      }
    },
    {
      "cell_type": "markdown",
      "source": [
        "## Correlation of The Column"
      ],
      "metadata": {
        "id": "QpaORACGYWIO"
      }
    },
    {
      "cell_type": "code",
      "source": [
        "df.corr()"
      ],
      "metadata": {
        "colab": {
          "base_uri": "https://localhost:8080/",
          "height": 615
        },
        "id": "J_nqHGiaZ-oH",
        "outputId": "5c3b1885-85f6-483b-a35f-314820bf6c68"
      },
      "execution_count": 27,
      "outputs": [
        {
          "output_type": "execute_result",
          "data": {
            "text/plain": [
              "                                      no_of_adults  no_of_children  \\\n",
              "no_of_adults                              1.000000       -0.019787   \n",
              "no_of_children                           -0.019787        1.000000   \n",
              "no_of_weekend_nights                      0.103316        0.029478   \n",
              "no_of_week_nights                         0.105622        0.024398   \n",
              "required_car_parking_space                0.011429        0.034244   \n",
              "lead_time                                 0.097287       -0.047091   \n",
              "arrival_year                              0.076719        0.045983   \n",
              "arrival_month                             0.021841       -0.003076   \n",
              "arrival_date                              0.026338        0.025482   \n",
              "repeated_guest                           -0.192277       -0.036348   \n",
              "no_of_previous_cancellations             -0.047426       -0.016390   \n",
              "no_of_previous_bookings_not_canceled     -0.119166       -0.021189   \n",
              "avg_price_per_room                        0.296886        0.337728   \n",
              "no_of_special_requests                    0.189401        0.124486   \n",
              "total_people                              0.785371        0.603365   \n",
              "total_stay                                0.133803        0.033644   \n",
              "\n",
              "                                      no_of_weekend_nights  no_of_week_nights  \\\n",
              "no_of_adults                                      0.103316           0.105622   \n",
              "no_of_children                                    0.029478           0.024398   \n",
              "no_of_weekend_nights                              1.000000           0.179577   \n",
              "no_of_week_nights                                 0.179577           1.000000   \n",
              "required_car_parking_space                       -0.031111          -0.048784   \n",
              "lead_time                                         0.046595           0.149650   \n",
              "arrival_year                                      0.055357           0.032672   \n",
              "arrival_month                                    -0.009894           0.037376   \n",
              "arrival_date                                      0.027304          -0.009305   \n",
              "repeated_guest                                   -0.067107          -0.099764   \n",
              "no_of_previous_cancellations                     -0.020690          -0.030080   \n",
              "no_of_previous_bookings_not_canceled             -0.026312          -0.049344   \n",
              "avg_price_per_room                               -0.004525           0.022753   \n",
              "no_of_special_requests                            0.060593           0.045994   \n",
              "total_people                                      0.100658           0.099352   \n",
              "total_stay                                        0.629339           0.877513   \n",
              "\n",
              "                                      required_car_parking_space  lead_time  \\\n",
              "no_of_adults                                            0.011429   0.097287   \n",
              "no_of_children                                          0.034244  -0.047091   \n",
              "no_of_weekend_nights                                   -0.031111   0.046595   \n",
              "no_of_week_nights                                      -0.048784   0.149650   \n",
              "required_car_parking_space                              1.000000  -0.066445   \n",
              "lead_time                                              -0.066445   1.000000   \n",
              "arrival_year                                            0.015684   0.143439   \n",
              "arrival_month                                          -0.015505   0.136814   \n",
              "arrival_date                                           -0.000037   0.006479   \n",
              "repeated_guest                                          0.110909  -0.135984   \n",
              "no_of_previous_cancellations                            0.027106  -0.045723   \n",
              "no_of_previous_bookings_not_canceled                    0.063810  -0.078137   \n",
              "avg_price_per_room                                      0.061304  -0.062596   \n",
              "no_of_special_requests                                  0.087922  -0.101645   \n",
              "total_people                                            0.030318   0.048441   \n",
              "total_stay                                             -0.053704   0.140934   \n",
              "\n",
              "                                      arrival_year  arrival_month  \\\n",
              "no_of_adults                              0.076719       0.021841   \n",
              "no_of_children                            0.045983      -0.003076   \n",
              "no_of_weekend_nights                      0.055357      -0.009894   \n",
              "no_of_week_nights                         0.032672       0.037376   \n",
              "required_car_parking_space                0.015684      -0.015505   \n",
              "lead_time                                 0.143439       0.136814   \n",
              "arrival_year                              1.000000      -0.339689   \n",
              "arrival_month                            -0.339689       1.000000   \n",
              "arrival_date                              0.018849      -0.042780   \n",
              "repeated_guest                           -0.018175       0.000341   \n",
              "no_of_previous_cancellations              0.003919      -0.038615   \n",
              "no_of_previous_bookings_not_canceled      0.026422      -0.010718   \n",
              "avg_price_per_room                        0.178605       0.054423   \n",
              "no_of_special_requests                    0.053205       0.110552   \n",
              "total_people                              0.089663       0.015517   \n",
              "total_stay                                0.052795       0.024703   \n",
              "\n",
              "                                      arrival_date  repeated_guest  \\\n",
              "no_of_adults                              0.026338       -0.192277   \n",
              "no_of_children                            0.025482       -0.036348   \n",
              "no_of_weekend_nights                      0.027304       -0.067107   \n",
              "no_of_week_nights                        -0.009305       -0.099764   \n",
              "required_car_parking_space               -0.000037        0.110909   \n",
              "lead_time                                 0.006479       -0.135984   \n",
              "arrival_year                              0.018849       -0.018175   \n",
              "arrival_month                            -0.042780        0.000341   \n",
              "arrival_date                              1.000000       -0.015949   \n",
              "repeated_guest                           -0.015949        1.000000   \n",
              "no_of_previous_cancellations             -0.012542        0.390810   \n",
              "no_of_previous_bookings_not_canceled     -0.001498        0.539156   \n",
              "avg_price_per_room                        0.017898       -0.174900   \n",
              "no_of_special_requests                    0.018352       -0.011820   \n",
              "total_people                              0.036785       -0.175869   \n",
              "total_stay                                0.005960       -0.111525   \n",
              "\n",
              "                                      no_of_previous_cancellations  \\\n",
              "no_of_adults                                             -0.047426   \n",
              "no_of_children                                           -0.016390   \n",
              "no_of_weekend_nights                                     -0.020690   \n",
              "no_of_week_nights                                        -0.030080   \n",
              "required_car_parking_space                                0.027106   \n",
              "lead_time                                                -0.045723   \n",
              "arrival_year                                              0.003919   \n",
              "arrival_month                                            -0.038615   \n",
              "arrival_date                                             -0.012542   \n",
              "repeated_guest                                            0.390810   \n",
              "no_of_previous_cancellations                              1.000000   \n",
              "no_of_previous_bookings_not_canceled                      0.468147   \n",
              "avg_price_per_room                                       -0.063340   \n",
              "no_of_special_requests                                   -0.003317   \n",
              "total_people                                             -0.047975   \n",
              "total_stay                                               -0.033849   \n",
              "\n",
              "                                      no_of_previous_bookings_not_canceled  \\\n",
              "no_of_adults                                                     -0.119166   \n",
              "no_of_children                                                   -0.021189   \n",
              "no_of_weekend_nights                                             -0.026312   \n",
              "no_of_week_nights                                                -0.049344   \n",
              "required_car_parking_space                                        0.063810   \n",
              "lead_time                                                        -0.078137   \n",
              "arrival_year                                                      0.026422   \n",
              "arrival_month                                                    -0.010718   \n",
              "arrival_date                                                     -0.001498   \n",
              "repeated_guest                                                    0.539156   \n",
              "no_of_previous_cancellations                                      0.468147   \n",
              "no_of_previous_bookings_not_canceled                              1.000000   \n",
              "avg_price_per_room                                               -0.113684   \n",
              "no_of_special_requests                                            0.027377   \n",
              "total_people                                                     -0.108168   \n",
              "total_stay                                                       -0.051807   \n",
              "\n",
              "                                      avg_price_per_room  \\\n",
              "no_of_adults                                    0.296886   \n",
              "no_of_children                                  0.337728   \n",
              "no_of_weekend_nights                           -0.004525   \n",
              "no_of_week_nights                               0.022753   \n",
              "required_car_parking_space                      0.061304   \n",
              "lead_time                                      -0.062596   \n",
              "arrival_year                                    0.178605   \n",
              "arrival_month                                   0.054423   \n",
              "arrival_date                                    0.017898   \n",
              "repeated_guest                                 -0.174900   \n",
              "no_of_previous_cancellations                   -0.063340   \n",
              "no_of_previous_bookings_not_canceled           -0.113684   \n",
              "avg_price_per_room                              1.000000   \n",
              "no_of_special_requests                          0.184381   \n",
              "total_people                                    0.445906   \n",
              "total_stay                                      0.015768   \n",
              "\n",
              "                                      no_of_special_requests  total_people  \\\n",
              "no_of_adults                                        0.189401      0.785371   \n",
              "no_of_children                                      0.124486      0.603365   \n",
              "no_of_weekend_nights                                0.060593      0.100658   \n",
              "no_of_week_nights                                   0.045994      0.099352   \n",
              "required_car_parking_space                          0.087922      0.030318   \n",
              "lead_time                                          -0.101645      0.048441   \n",
              "arrival_year                                        0.053205      0.089663   \n",
              "arrival_month                                       0.110552      0.015517   \n",
              "arrival_date                                        0.018352      0.036785   \n",
              "repeated_guest                                     -0.011820     -0.175869   \n",
              "no_of_previous_cancellations                       -0.003317     -0.047975   \n",
              "no_of_previous_bookings_not_canceled                0.027377     -0.108168   \n",
              "avg_price_per_room                                  0.184381      0.445906   \n",
              "no_of_special_requests                              1.000000      0.228146   \n",
              "total_people                                        0.228146      1.000000   \n",
              "total_stay                                          0.065871      0.127554   \n",
              "\n",
              "                                      total_stay  \n",
              "no_of_adults                            0.133803  \n",
              "no_of_children                          0.033644  \n",
              "no_of_weekend_nights                    0.629339  \n",
              "no_of_week_nights                       0.877513  \n",
              "required_car_parking_space             -0.053704  \n",
              "lead_time                               0.140934  \n",
              "arrival_year                            0.052795  \n",
              "arrival_month                           0.024703  \n",
              "arrival_date                            0.005960  \n",
              "repeated_guest                         -0.111525  \n",
              "no_of_previous_cancellations           -0.033849  \n",
              "no_of_previous_bookings_not_canceled   -0.051807  \n",
              "avg_price_per_room                      0.015768  \n",
              "no_of_special_requests                  0.065871  \n",
              "total_people                            0.127554  \n",
              "total_stay                              1.000000  "
            ],
            "text/html": [
              "\n",
              "  <div id=\"df-7a028f08-e3d9-4f9d-8a5f-48a8a874fa21\">\n",
              "    <div class=\"colab-df-container\">\n",
              "      <div>\n",
              "<style scoped>\n",
              "    .dataframe tbody tr th:only-of-type {\n",
              "        vertical-align: middle;\n",
              "    }\n",
              "\n",
              "    .dataframe tbody tr th {\n",
              "        vertical-align: top;\n",
              "    }\n",
              "\n",
              "    .dataframe thead th {\n",
              "        text-align: right;\n",
              "    }\n",
              "</style>\n",
              "<table border=\"1\" class=\"dataframe\">\n",
              "  <thead>\n",
              "    <tr style=\"text-align: right;\">\n",
              "      <th></th>\n",
              "      <th>no_of_adults</th>\n",
              "      <th>no_of_children</th>\n",
              "      <th>no_of_weekend_nights</th>\n",
              "      <th>no_of_week_nights</th>\n",
              "      <th>required_car_parking_space</th>\n",
              "      <th>lead_time</th>\n",
              "      <th>arrival_year</th>\n",
              "      <th>arrival_month</th>\n",
              "      <th>arrival_date</th>\n",
              "      <th>repeated_guest</th>\n",
              "      <th>no_of_previous_cancellations</th>\n",
              "      <th>no_of_previous_bookings_not_canceled</th>\n",
              "      <th>avg_price_per_room</th>\n",
              "      <th>no_of_special_requests</th>\n",
              "      <th>total_people</th>\n",
              "      <th>total_stay</th>\n",
              "    </tr>\n",
              "  </thead>\n",
              "  <tbody>\n",
              "    <tr>\n",
              "      <th>no_of_adults</th>\n",
              "      <td>1.000000</td>\n",
              "      <td>-0.019787</td>\n",
              "      <td>0.103316</td>\n",
              "      <td>0.105622</td>\n",
              "      <td>0.011429</td>\n",
              "      <td>0.097287</td>\n",
              "      <td>0.076719</td>\n",
              "      <td>0.021841</td>\n",
              "      <td>0.026338</td>\n",
              "      <td>-0.192277</td>\n",
              "      <td>-0.047426</td>\n",
              "      <td>-0.119166</td>\n",
              "      <td>0.296886</td>\n",
              "      <td>0.189401</td>\n",
              "      <td>0.785371</td>\n",
              "      <td>0.133803</td>\n",
              "    </tr>\n",
              "    <tr>\n",
              "      <th>no_of_children</th>\n",
              "      <td>-0.019787</td>\n",
              "      <td>1.000000</td>\n",
              "      <td>0.029478</td>\n",
              "      <td>0.024398</td>\n",
              "      <td>0.034244</td>\n",
              "      <td>-0.047091</td>\n",
              "      <td>0.045983</td>\n",
              "      <td>-0.003076</td>\n",
              "      <td>0.025482</td>\n",
              "      <td>-0.036348</td>\n",
              "      <td>-0.016390</td>\n",
              "      <td>-0.021189</td>\n",
              "      <td>0.337728</td>\n",
              "      <td>0.124486</td>\n",
              "      <td>0.603365</td>\n",
              "      <td>0.033644</td>\n",
              "    </tr>\n",
              "    <tr>\n",
              "      <th>no_of_weekend_nights</th>\n",
              "      <td>0.103316</td>\n",
              "      <td>0.029478</td>\n",
              "      <td>1.000000</td>\n",
              "      <td>0.179577</td>\n",
              "      <td>-0.031111</td>\n",
              "      <td>0.046595</td>\n",
              "      <td>0.055357</td>\n",
              "      <td>-0.009894</td>\n",
              "      <td>0.027304</td>\n",
              "      <td>-0.067107</td>\n",
              "      <td>-0.020690</td>\n",
              "      <td>-0.026312</td>\n",
              "      <td>-0.004525</td>\n",
              "      <td>0.060593</td>\n",
              "      <td>0.100658</td>\n",
              "      <td>0.629339</td>\n",
              "    </tr>\n",
              "    <tr>\n",
              "      <th>no_of_week_nights</th>\n",
              "      <td>0.105622</td>\n",
              "      <td>0.024398</td>\n",
              "      <td>0.179577</td>\n",
              "      <td>1.000000</td>\n",
              "      <td>-0.048784</td>\n",
              "      <td>0.149650</td>\n",
              "      <td>0.032672</td>\n",
              "      <td>0.037376</td>\n",
              "      <td>-0.009305</td>\n",
              "      <td>-0.099764</td>\n",
              "      <td>-0.030080</td>\n",
              "      <td>-0.049344</td>\n",
              "      <td>0.022753</td>\n",
              "      <td>0.045994</td>\n",
              "      <td>0.099352</td>\n",
              "      <td>0.877513</td>\n",
              "    </tr>\n",
              "    <tr>\n",
              "      <th>required_car_parking_space</th>\n",
              "      <td>0.011429</td>\n",
              "      <td>0.034244</td>\n",
              "      <td>-0.031111</td>\n",
              "      <td>-0.048784</td>\n",
              "      <td>1.000000</td>\n",
              "      <td>-0.066445</td>\n",
              "      <td>0.015684</td>\n",
              "      <td>-0.015505</td>\n",
              "      <td>-0.000037</td>\n",
              "      <td>0.110909</td>\n",
              "      <td>0.027106</td>\n",
              "      <td>0.063810</td>\n",
              "      <td>0.061304</td>\n",
              "      <td>0.087922</td>\n",
              "      <td>0.030318</td>\n",
              "      <td>-0.053704</td>\n",
              "    </tr>\n",
              "    <tr>\n",
              "      <th>lead_time</th>\n",
              "      <td>0.097287</td>\n",
              "      <td>-0.047091</td>\n",
              "      <td>0.046595</td>\n",
              "      <td>0.149650</td>\n",
              "      <td>-0.066445</td>\n",
              "      <td>1.000000</td>\n",
              "      <td>0.143439</td>\n",
              "      <td>0.136814</td>\n",
              "      <td>0.006479</td>\n",
              "      <td>-0.135984</td>\n",
              "      <td>-0.045723</td>\n",
              "      <td>-0.078137</td>\n",
              "      <td>-0.062596</td>\n",
              "      <td>-0.101645</td>\n",
              "      <td>0.048441</td>\n",
              "      <td>0.140934</td>\n",
              "    </tr>\n",
              "    <tr>\n",
              "      <th>arrival_year</th>\n",
              "      <td>0.076719</td>\n",
              "      <td>0.045983</td>\n",
              "      <td>0.055357</td>\n",
              "      <td>0.032672</td>\n",
              "      <td>0.015684</td>\n",
              "      <td>0.143439</td>\n",
              "      <td>1.000000</td>\n",
              "      <td>-0.339689</td>\n",
              "      <td>0.018849</td>\n",
              "      <td>-0.018175</td>\n",
              "      <td>0.003919</td>\n",
              "      <td>0.026422</td>\n",
              "      <td>0.178605</td>\n",
              "      <td>0.053205</td>\n",
              "      <td>0.089663</td>\n",
              "      <td>0.052795</td>\n",
              "    </tr>\n",
              "    <tr>\n",
              "      <th>arrival_month</th>\n",
              "      <td>0.021841</td>\n",
              "      <td>-0.003076</td>\n",
              "      <td>-0.009894</td>\n",
              "      <td>0.037376</td>\n",
              "      <td>-0.015505</td>\n",
              "      <td>0.136814</td>\n",
              "      <td>-0.339689</td>\n",
              "      <td>1.000000</td>\n",
              "      <td>-0.042780</td>\n",
              "      <td>0.000341</td>\n",
              "      <td>-0.038615</td>\n",
              "      <td>-0.010718</td>\n",
              "      <td>0.054423</td>\n",
              "      <td>0.110552</td>\n",
              "      <td>0.015517</td>\n",
              "      <td>0.024703</td>\n",
              "    </tr>\n",
              "    <tr>\n",
              "      <th>arrival_date</th>\n",
              "      <td>0.026338</td>\n",
              "      <td>0.025482</td>\n",
              "      <td>0.027304</td>\n",
              "      <td>-0.009305</td>\n",
              "      <td>-0.000037</td>\n",
              "      <td>0.006479</td>\n",
              "      <td>0.018849</td>\n",
              "      <td>-0.042780</td>\n",
              "      <td>1.000000</td>\n",
              "      <td>-0.015949</td>\n",
              "      <td>-0.012542</td>\n",
              "      <td>-0.001498</td>\n",
              "      <td>0.017898</td>\n",
              "      <td>0.018352</td>\n",
              "      <td>0.036785</td>\n",
              "      <td>0.005960</td>\n",
              "    </tr>\n",
              "    <tr>\n",
              "      <th>repeated_guest</th>\n",
              "      <td>-0.192277</td>\n",
              "      <td>-0.036348</td>\n",
              "      <td>-0.067107</td>\n",
              "      <td>-0.099764</td>\n",
              "      <td>0.110909</td>\n",
              "      <td>-0.135984</td>\n",
              "      <td>-0.018175</td>\n",
              "      <td>0.000341</td>\n",
              "      <td>-0.015949</td>\n",
              "      <td>1.000000</td>\n",
              "      <td>0.390810</td>\n",
              "      <td>0.539156</td>\n",
              "      <td>-0.174900</td>\n",
              "      <td>-0.011820</td>\n",
              "      <td>-0.175869</td>\n",
              "      <td>-0.111525</td>\n",
              "    </tr>\n",
              "    <tr>\n",
              "      <th>no_of_previous_cancellations</th>\n",
              "      <td>-0.047426</td>\n",
              "      <td>-0.016390</td>\n",
              "      <td>-0.020690</td>\n",
              "      <td>-0.030080</td>\n",
              "      <td>0.027106</td>\n",
              "      <td>-0.045723</td>\n",
              "      <td>0.003919</td>\n",
              "      <td>-0.038615</td>\n",
              "      <td>-0.012542</td>\n",
              "      <td>0.390810</td>\n",
              "      <td>1.000000</td>\n",
              "      <td>0.468147</td>\n",
              "      <td>-0.063340</td>\n",
              "      <td>-0.003317</td>\n",
              "      <td>-0.047975</td>\n",
              "      <td>-0.033849</td>\n",
              "    </tr>\n",
              "    <tr>\n",
              "      <th>no_of_previous_bookings_not_canceled</th>\n",
              "      <td>-0.119166</td>\n",
              "      <td>-0.021189</td>\n",
              "      <td>-0.026312</td>\n",
              "      <td>-0.049344</td>\n",
              "      <td>0.063810</td>\n",
              "      <td>-0.078137</td>\n",
              "      <td>0.026422</td>\n",
              "      <td>-0.010718</td>\n",
              "      <td>-0.001498</td>\n",
              "      <td>0.539156</td>\n",
              "      <td>0.468147</td>\n",
              "      <td>1.000000</td>\n",
              "      <td>-0.113684</td>\n",
              "      <td>0.027377</td>\n",
              "      <td>-0.108168</td>\n",
              "      <td>-0.051807</td>\n",
              "    </tr>\n",
              "    <tr>\n",
              "      <th>avg_price_per_room</th>\n",
              "      <td>0.296886</td>\n",
              "      <td>0.337728</td>\n",
              "      <td>-0.004525</td>\n",
              "      <td>0.022753</td>\n",
              "      <td>0.061304</td>\n",
              "      <td>-0.062596</td>\n",
              "      <td>0.178605</td>\n",
              "      <td>0.054423</td>\n",
              "      <td>0.017898</td>\n",
              "      <td>-0.174900</td>\n",
              "      <td>-0.063340</td>\n",
              "      <td>-0.113684</td>\n",
              "      <td>1.000000</td>\n",
              "      <td>0.184381</td>\n",
              "      <td>0.445906</td>\n",
              "      <td>0.015768</td>\n",
              "    </tr>\n",
              "    <tr>\n",
              "      <th>no_of_special_requests</th>\n",
              "      <td>0.189401</td>\n",
              "      <td>0.124486</td>\n",
              "      <td>0.060593</td>\n",
              "      <td>0.045994</td>\n",
              "      <td>0.087922</td>\n",
              "      <td>-0.101645</td>\n",
              "      <td>0.053205</td>\n",
              "      <td>0.110552</td>\n",
              "      <td>0.018352</td>\n",
              "      <td>-0.011820</td>\n",
              "      <td>-0.003317</td>\n",
              "      <td>0.027377</td>\n",
              "      <td>0.184381</td>\n",
              "      <td>1.000000</td>\n",
              "      <td>0.228146</td>\n",
              "      <td>0.065871</td>\n",
              "    </tr>\n",
              "    <tr>\n",
              "      <th>total_people</th>\n",
              "      <td>0.785371</td>\n",
              "      <td>0.603365</td>\n",
              "      <td>0.100658</td>\n",
              "      <td>0.099352</td>\n",
              "      <td>0.030318</td>\n",
              "      <td>0.048441</td>\n",
              "      <td>0.089663</td>\n",
              "      <td>0.015517</td>\n",
              "      <td>0.036785</td>\n",
              "      <td>-0.175869</td>\n",
              "      <td>-0.047975</td>\n",
              "      <td>-0.108168</td>\n",
              "      <td>0.445906</td>\n",
              "      <td>0.228146</td>\n",
              "      <td>1.000000</td>\n",
              "      <td>0.127554</td>\n",
              "    </tr>\n",
              "    <tr>\n",
              "      <th>total_stay</th>\n",
              "      <td>0.133803</td>\n",
              "      <td>0.033644</td>\n",
              "      <td>0.629339</td>\n",
              "      <td>0.877513</td>\n",
              "      <td>-0.053704</td>\n",
              "      <td>0.140934</td>\n",
              "      <td>0.052795</td>\n",
              "      <td>0.024703</td>\n",
              "      <td>0.005960</td>\n",
              "      <td>-0.111525</td>\n",
              "      <td>-0.033849</td>\n",
              "      <td>-0.051807</td>\n",
              "      <td>0.015768</td>\n",
              "      <td>0.065871</td>\n",
              "      <td>0.127554</td>\n",
              "      <td>1.000000</td>\n",
              "    </tr>\n",
              "  </tbody>\n",
              "</table>\n",
              "</div>\n",
              "      <button class=\"colab-df-convert\" onclick=\"convertToInteractive('df-7a028f08-e3d9-4f9d-8a5f-48a8a874fa21')\"\n",
              "              title=\"Convert this dataframe to an interactive table.\"\n",
              "              style=\"display:none;\">\n",
              "        \n",
              "  <svg xmlns=\"http://www.w3.org/2000/svg\" height=\"24px\"viewBox=\"0 0 24 24\"\n",
              "       width=\"24px\">\n",
              "    <path d=\"M0 0h24v24H0V0z\" fill=\"none\"/>\n",
              "    <path d=\"M18.56 5.44l.94 2.06.94-2.06 2.06-.94-2.06-.94-.94-2.06-.94 2.06-2.06.94zm-11 1L8.5 8.5l.94-2.06 2.06-.94-2.06-.94L8.5 2.5l-.94 2.06-2.06.94zm10 10l.94 2.06.94-2.06 2.06-.94-2.06-.94-.94-2.06-.94 2.06-2.06.94z\"/><path d=\"M17.41 7.96l-1.37-1.37c-.4-.4-.92-.59-1.43-.59-.52 0-1.04.2-1.43.59L10.3 9.45l-7.72 7.72c-.78.78-.78 2.05 0 2.83L4 21.41c.39.39.9.59 1.41.59.51 0 1.02-.2 1.41-.59l7.78-7.78 2.81-2.81c.8-.78.8-2.07 0-2.86zM5.41 20L4 18.59l7.72-7.72 1.47 1.35L5.41 20z\"/>\n",
              "  </svg>\n",
              "      </button>\n",
              "      \n",
              "  <style>\n",
              "    .colab-df-container {\n",
              "      display:flex;\n",
              "      flex-wrap:wrap;\n",
              "      gap: 12px;\n",
              "    }\n",
              "\n",
              "    .colab-df-convert {\n",
              "      background-color: #E8F0FE;\n",
              "      border: none;\n",
              "      border-radius: 50%;\n",
              "      cursor: pointer;\n",
              "      display: none;\n",
              "      fill: #1967D2;\n",
              "      height: 32px;\n",
              "      padding: 0 0 0 0;\n",
              "      width: 32px;\n",
              "    }\n",
              "\n",
              "    .colab-df-convert:hover {\n",
              "      background-color: #E2EBFA;\n",
              "      box-shadow: 0px 1px 2px rgba(60, 64, 67, 0.3), 0px 1px 3px 1px rgba(60, 64, 67, 0.15);\n",
              "      fill: #174EA6;\n",
              "    }\n",
              "\n",
              "    [theme=dark] .colab-df-convert {\n",
              "      background-color: #3B4455;\n",
              "      fill: #D2E3FC;\n",
              "    }\n",
              "\n",
              "    [theme=dark] .colab-df-convert:hover {\n",
              "      background-color: #434B5C;\n",
              "      box-shadow: 0px 1px 3px 1px rgba(0, 0, 0, 0.15);\n",
              "      filter: drop-shadow(0px 1px 2px rgba(0, 0, 0, 0.3));\n",
              "      fill: #FFFFFF;\n",
              "    }\n",
              "  </style>\n",
              "\n",
              "      <script>\n",
              "        const buttonEl =\n",
              "          document.querySelector('#df-7a028f08-e3d9-4f9d-8a5f-48a8a874fa21 button.colab-df-convert');\n",
              "        buttonEl.style.display =\n",
              "          google.colab.kernel.accessAllowed ? 'block' : 'none';\n",
              "\n",
              "        async function convertToInteractive(key) {\n",
              "          const element = document.querySelector('#df-7a028f08-e3d9-4f9d-8a5f-48a8a874fa21');\n",
              "          const dataTable =\n",
              "            await google.colab.kernel.invokeFunction('convertToInteractive',\n",
              "                                                     [key], {});\n",
              "          if (!dataTable) return;\n",
              "\n",
              "          const docLinkHtml = 'Like what you see? Visit the ' +\n",
              "            '<a target=\"_blank\" href=https://colab.research.google.com/notebooks/data_table.ipynb>data table notebook</a>'\n",
              "            + ' to learn more about interactive tables.';\n",
              "          element.innerHTML = '';\n",
              "          dataTable['output_type'] = 'display_data';\n",
              "          await google.colab.output.renderOutput(dataTable, element);\n",
              "          const docLink = document.createElement('div');\n",
              "          docLink.innerHTML = docLinkHtml;\n",
              "          element.appendChild(docLink);\n",
              "        }\n",
              "      </script>\n",
              "    </div>\n",
              "  </div>\n",
              "  "
            ]
          },
          "metadata": {},
          "execution_count": 27
        }
      ]
    },
    {
      "cell_type": "code",
      "source": [
        "plt.figure(figsize=(20,8))\n",
        "sns.heatmap(df.corr(),annot=True)\n",
        "plt.title('Co-relation of the columns')"
      ],
      "metadata": {
        "colab": {
          "base_uri": "https://localhost:8080/",
          "height": 552
        },
        "id": "EKWFH0fNR7yF",
        "outputId": "03b50240-2af8-407c-c92a-5b0ca3351493"
      },
      "execution_count": 28,
      "outputs": [
        {
          "output_type": "execute_result",
          "data": {
            "text/plain": [
              "Text(0.5, 1.0, 'Co-relation of the columns')"
            ]
          },
          "metadata": {},
          "execution_count": 28
        },
        {
          "output_type": "display_data",
          "data": {
            "text/plain": [
              "<Figure size 1440x576 with 2 Axes>"
            ],
            "image/png": "[encoded data removed]"
          },
          "metadata": {
            "needs_background": "light"
          }
        }
      ]
    },
    {
      "cell_type": "markdown",
      "source": [
        "We can see that:\n",
        "\n",
        "\n",
        "1.    repeated guest and total stay are negatively corelated. That means the total stay length of the customer does not guarantee that the customer will repeat booking or visit\n",
        "2.   lead time and total stay is positively corelated.That means more is the stay of cutsomer more will be the lead time.\n",
        "3. repeated guest and previous bookings not canceled has strong corelation. may be repeated guests are not more likely to cancel their bookings.\n",
        "\n",
        "\n",
        "\n"
      ],
      "metadata": {
        "id": "y8qv2IzMYt6d"
      }
    },
    {
      "cell_type": "markdown",
      "source": [
        "# how you will make the visualization without impacting performance?"
      ],
      "metadata": {
        "id": "R0keUr7DdvXc"
      }
    },
    {
      "cell_type": "markdown",
      "source": [
        "\n",
        "\n",
        "1. Data Identification\n",
        "2. Minimize the creation of new variables that are used only temporarily because they can consume memory and execution time. Ex: using inplace in drop column process on data frame: df[a,b,c] -> df =df[a,b]   \n",
        "3. Data Cleaning\n",
        "\n"
      ],
      "metadata": {
        "id": "4d-u3oX-dz1Q"
      }
    },
    {
      "cell_type": "markdown",
      "source": [
        "# Model"
      ],
      "metadata": {
        "id": "tuPN3R6jfmkM"
      }
    },
    {
      "cell_type": "code",
      "source": [
        "# categorycal data to numerical data\n",
        "df['type_of_meal_plan']=pd.factorize(df.type_of_meal_plan)[0]\n",
        "df['room_type_reserved']=pd.factorize(df.room_type_reserved)[0]\n",
        "df['market_segment_type']=pd.factorize(df.market_segment_type)[0]\n",
        "df['booking_status']=pd.factorize(df.booking_status)[0]\n",
        "df"
      ],
      "metadata": {
        "colab": {
          "base_uri": "https://localhost:8080/",
          "height": 488
        },
        "id": "idV18BNJfqQc",
        "outputId": "c0157ac7-46a4-4630-ee1d-ae6ee0947467"
      },
      "execution_count": 29,
      "outputs": [
        {
          "output_type": "execute_result",
          "data": {
            "text/plain": [
              "       no_of_adults  no_of_children  no_of_weekend_nights  no_of_week_nights  \\\n",
              "0                 2               0                     1                  2   \n",
              "1                 2               0                     2                  3   \n",
              "2                 1               0                     2                  1   \n",
              "3                 2               0                     0                  2   \n",
              "4                 2               0                     1                  1   \n",
              "...             ...             ...                   ...                ...   \n",
              "36270             3               0                     2                  6   \n",
              "36271             2               0                     1                  3   \n",
              "36272             2               0                     2                  6   \n",
              "36273             2               0                     0                  3   \n",
              "36274             2               0                     1                  2   \n",
              "\n",
              "       type_of_meal_plan  required_car_parking_space  room_type_reserved  \\\n",
              "0                      0                           0                   0   \n",
              "1                      1                           0                   0   \n",
              "2                      0                           0                   0   \n",
              "3                      0                           0                   0   \n",
              "4                      1                           0                   0   \n",
              "...                  ...                         ...                 ...   \n",
              "36270                  0                           0                   1   \n",
              "36271                  0                           0                   0   \n",
              "36272                  0                           0                   0   \n",
              "36273                  1                           0                   0   \n",
              "36274                  0                           0                   0   \n",
              "\n",
              "       lead_time  arrival_year  arrival_month  arrival_date  \\\n",
              "0            224          2017             10             2   \n",
              "1              5          2018             11             6   \n",
              "2              1          2018              2            28   \n",
              "3            211          2018              5            20   \n",
              "4             48          2018              4            11   \n",
              "...          ...           ...            ...           ...   \n",
              "36270         85          2018              8             3   \n",
              "36271        228          2018             10            17   \n",
              "36272        148          2018              7             1   \n",
              "36273         63          2018              4            21   \n",
              "36274        207          2018             12            30   \n",
              "\n",
              "       market_segment_type  repeated_guest  no_of_previous_cancellations  \\\n",
              "0                        0               0                             0   \n",
              "1                        1               0                             0   \n",
              "2                        1               0                             0   \n",
              "3                        1               0                             0   \n",
              "4                        1               0                             0   \n",
              "...                    ...             ...                           ...   \n",
              "36270                    1               0                             0   \n",
              "36271                    1               0                             0   \n",
              "36272                    1               0                             0   \n",
              "36273                    1               0                             0   \n",
              "36274                    0               0                             0   \n",
              "\n",
              "       no_of_previous_bookings_not_canceled  avg_price_per_room  \\\n",
              "0                                         0               65.00   \n",
              "1                                         0              106.68   \n",
              "2                                         0               60.00   \n",
              "3                                         0              100.00   \n",
              "4                                         0               94.50   \n",
              "...                                     ...                 ...   \n",
              "36270                                     0              167.80   \n",
              "36271                                     0               90.95   \n",
              "36272                                     0               98.39   \n",
              "36273                                     0               94.50   \n",
              "36274                                     0              161.67   \n",
              "\n",
              "       no_of_special_requests  booking_status  total_people  total_stay  \n",
              "0                           0               0             2           3  \n",
              "1                           1               0             2           5  \n",
              "2                           0               1             1           3  \n",
              "3                           0               1             2           2  \n",
              "4                           0               1             2           2  \n",
              "...                       ...             ...           ...         ...  \n",
              "36270                       1               0             3           8  \n",
              "36271                       2               1             2           4  \n",
              "36272                       2               0             2           8  \n",
              "36273                       0               1             2           3  \n",
              "36274                       0               0             2           3  \n",
              "\n",
              "[36275 rows x 20 columns]"
            ],
            "text/html": [
              "\n",
              "  <div id=\"df-7fc3dd3b-f336-4261-aabf-67e8fd54c377\">\n",
              "    <div class=\"colab-df-container\">\n",
              "      <div>\n",
              "<style scoped>\n",
              "    .dataframe tbody tr th:only-of-type {\n",
              "        vertical-align: middle;\n",
              "    }\n",
              "\n",
              "    .dataframe tbody tr th {\n",
              "        vertical-align: top;\n",
              "    }\n",
              "\n",
              "    .dataframe thead th {\n",
              "        text-align: right;\n",
              "    }\n",
              "</style>\n",
              "<table border=\"1\" class=\"dataframe\">\n",
              "  <thead>\n",
              "    <tr style=\"text-align: right;\">\n",
              "      <th></th>\n",
              "      <th>no_of_adults</th>\n",
              "      <th>no_of_children</th>\n",
              "      <th>no_of_weekend_nights</th>\n",
              "      <th>no_of_week_nights</th>\n",
              "      <th>type_of_meal_plan</th>\n",
              "      <th>required_car_parking_space</th>\n",
              "      <th>room_type_reserved</th>\n",
              "      <th>lead_time</th>\n",
              "      <th>arrival_year</th>\n",
              "      <th>arrival_month</th>\n",
              "      <th>arrival_date</th>\n",
              "      <th>market_segment_type</th>\n",
              "      <th>repeated_guest</th>\n",
              "      <th>no_of_previous_cancellations</th>\n",
              "      <th>no_of_previous_bookings_not_canceled</th>\n",
              "      <th>avg_price_per_room</th>\n",
              "      <th>no_of_special_requests</th>\n",
              "      <th>booking_status</th>\n",
              "      <th>total_people</th>\n",
              "      <th>total_stay</th>\n",
              "    </tr>\n",
              "  </thead>\n",
              "  <tbody>\n",
              "    <tr>\n",
              "      <th>0</th>\n",
              "      <td>2</td>\n",
              "      <td>0</td>\n",
              "      <td>1</td>\n",
              "      <td>2</td>\n",
              "      <td>0</td>\n",
              "      <td>0</td>\n",
              "      <td>0</td>\n",
              "      <td>224</td>\n",
              "      <td>2017</td>\n",
              "      <td>10</td>\n",
              "      <td>2</td>\n",
              "      <td>0</td>\n",
              "      <td>0</td>\n",
              "      <td>0</td>\n",
              "      <td>0</td>\n",
              "      <td>65.00</td>\n",
              "      <td>0</td>\n",
              "      <td>0</td>\n",
              "      <td>2</td>\n",
              "      <td>3</td>\n",
              "    </tr>\n",
              "    <tr>\n",
              "      <th>1</th>\n",
              "      <td>2</td>\n",
              "      <td>0</td>\n",
              "      <td>2</td>\n",
              "      <td>3</td>\n",
              "      <td>1</td>\n",
              "      <td>0</td>\n",
              "      <td>0</td>\n",
              "      <td>5</td>\n",
              "      <td>2018</td>\n",
              "      <td>11</td>\n",
              "      <td>6</td>\n",
              "      <td>1</td>\n",
              "      <td>0</td>\n",
              "      <td>0</td>\n",
              "      <td>0</td>\n",
              "      <td>106.68</td>\n",
              "      <td>1</td>\n",
              "      <td>0</td>\n",
              "      <td>2</td>\n",
              "      <td>5</td>\n",
              "    </tr>\n",
              "    <tr>\n",
              "      <th>2</th>\n",
              "      <td>1</td>\n",
              "      <td>0</td>\n",
              "      <td>2</td>\n",
              "      <td>1</td>\n",
              "      <td>0</td>\n",
              "      <td>0</td>\n",
              "      <td>0</td>\n",
              "      <td>1</td>\n",
              "      <td>2018</td>\n",
              "      <td>2</td>\n",
              "      <td>28</td>\n",
              "      <td>1</td>\n",
              "      <td>0</td>\n",
              "      <td>0</td>\n",
              "      <td>0</td>\n",
              "      <td>60.00</td>\n",
              "      <td>0</td>\n",
              "      <td>1</td>\n",
              "      <td>1</td>\n",
              "      <td>3</td>\n",
              "    </tr>\n",
              "    <tr>\n",
              "      <th>3</th>\n",
              "      <td>2</td>\n",
              "      <td>0</td>\n",
              "      <td>0</td>\n",
              "      <td>2</td>\n",
              "      <td>0</td>\n",
              "      <td>0</td>\n",
              "      <td>0</td>\n",
              "      <td>211</td>\n",
              "      <td>2018</td>\n",
              "      <td>5</td>\n",
              "      <td>20</td>\n",
              "      <td>1</td>\n",
              "      <td>0</td>\n",
              "      <td>0</td>\n",
              "      <td>0</td>\n",
              "      <td>100.00</td>\n",
              "      <td>0</td>\n",
              "      <td>1</td>\n",
              "      <td>2</td>\n",
              "      <td>2</td>\n",
              "    </tr>\n",
              "    <tr>\n",
              "      <th>4</th>\n",
              "      <td>2</td>\n",
              "      <td>0</td>\n",
              "      <td>1</td>\n",
              "      <td>1</td>\n",
              "      <td>1</td>\n",
              "      <td>0</td>\n",
              "      <td>0</td>\n",
              "      <td>48</td>\n",
              "      <td>2018</td>\n",
              "      <td>4</td>\n",
              "      <td>11</td>\n",
              "      <td>1</td>\n",
              "      <td>0</td>\n",
              "      <td>0</td>\n",
              "      <td>0</td>\n",
              "      <td>94.50</td>\n",
              "      <td>0</td>\n",
              "      <td>1</td>\n",
              "      <td>2</td>\n",
              "      <td>2</td>\n",
              "    </tr>\n",
              "    <tr>\n",
              "      <th>...</th>\n",
              "      <td>...</td>\n",
              "      <td>...</td>\n",
              "      <td>...</td>\n",
              "      <td>...</td>\n",
              "      <td>...</td>\n",
              "      <td>...</td>\n",
              "      <td>...</td>\n",
              "      <td>...</td>\n",
              "      <td>...</td>\n",
              "      <td>...</td>\n",
              "      <td>...</td>\n",
              "      <td>...</td>\n",
              "      <td>...</td>\n",
              "      <td>...</td>\n",
              "      <td>...</td>\n",
              "      <td>...</td>\n",
              "      <td>...</td>\n",
              "      <td>...</td>\n",
              "      <td>...</td>\n",
              "      <td>...</td>\n",
              "    </tr>\n",
              "    <tr>\n",
              "      <th>36270</th>\n",
              "      <td>3</td>\n",
              "      <td>0</td>\n",
              "      <td>2</td>\n",
              "      <td>6</td>\n",
              "      <td>0</td>\n",
              "      <td>0</td>\n",
              "      <td>1</td>\n",
              "      <td>85</td>\n",
              "      <td>2018</td>\n",
              "      <td>8</td>\n",
              "      <td>3</td>\n",
              "      <td>1</td>\n",
              "      <td>0</td>\n",
              "      <td>0</td>\n",
              "      <td>0</td>\n",
              "      <td>167.80</td>\n",
              "      <td>1</td>\n",
              "      <td>0</td>\n",
              "      <td>3</td>\n",
              "      <td>8</td>\n",
              "    </tr>\n",
              "    <tr>\n",
              "      <th>36271</th>\n",
              "      <td>2</td>\n",
              "      <td>0</td>\n",
              "      <td>1</td>\n",
              "      <td>3</td>\n",
              "      <td>0</td>\n",
              "      <td>0</td>\n",
              "      <td>0</td>\n",
              "      <td>228</td>\n",
              "      <td>2018</td>\n",
              "      <td>10</td>\n",
              "      <td>17</td>\n",
              "      <td>1</td>\n",
              "      <td>0</td>\n",
              "      <td>0</td>\n",
              "      <td>0</td>\n",
              "      <td>90.95</td>\n",
              "      <td>2</td>\n",
              "      <td>1</td>\n",
              "      <td>2</td>\n",
              "      <td>4</td>\n",
              "    </tr>\n",
              "    <tr>\n",
              "      <th>36272</th>\n",
              "      <td>2</td>\n",
              "      <td>0</td>\n",
              "      <td>2</td>\n",
              "      <td>6</td>\n",
              "      <td>0</td>\n",
              "      <td>0</td>\n",
              "      <td>0</td>\n",
              "      <td>148</td>\n",
              "      <td>2018</td>\n",
              "      <td>7</td>\n",
              "      <td>1</td>\n",
              "      <td>1</td>\n",
              "      <td>0</td>\n",
              "      <td>0</td>\n",
              "      <td>0</td>\n",
              "      <td>98.39</td>\n",
              "      <td>2</td>\n",
              "      <td>0</td>\n",
              "      <td>2</td>\n",
              "      <td>8</td>\n",
              "    </tr>\n",
              "    <tr>\n",
              "      <th>36273</th>\n",
              "      <td>2</td>\n",
              "      <td>0</td>\n",
              "      <td>0</td>\n",
              "      <td>3</td>\n",
              "      <td>1</td>\n",
              "      <td>0</td>\n",
              "      <td>0</td>\n",
              "      <td>63</td>\n",
              "      <td>2018</td>\n",
              "      <td>4</td>\n",
              "      <td>21</td>\n",
              "      <td>1</td>\n",
              "      <td>0</td>\n",
              "      <td>0</td>\n",
              "      <td>0</td>\n",
              "      <td>94.50</td>\n",
              "      <td>0</td>\n",
              "      <td>1</td>\n",
              "      <td>2</td>\n",
              "      <td>3</td>\n",
              "    </tr>\n",
              "    <tr>\n",
              "      <th>36274</th>\n",
              "      <td>2</td>\n",
              "      <td>0</td>\n",
              "      <td>1</td>\n",
              "      <td>2</td>\n",
              "      <td>0</td>\n",
              "      <td>0</td>\n",
              "      <td>0</td>\n",
              "      <td>207</td>\n",
              "      <td>2018</td>\n",
              "      <td>12</td>\n",
              "      <td>30</td>\n",
              "      <td>0</td>\n",
              "      <td>0</td>\n",
              "      <td>0</td>\n",
              "      <td>0</td>\n",
              "      <td>161.67</td>\n",
              "      <td>0</td>\n",
              "      <td>0</td>\n",
              "      <td>2</td>\n",
              "      <td>3</td>\n",
              "    </tr>\n",
              "  </tbody>\n",
              "</table>\n",
              "<p>36275 rows × 20 columns</p>\n",
              "</div>\n",
              "      <button class=\"colab-df-convert\" onclick=\"convertToInteractive('df-7fc3dd3b-f336-4261-aabf-67e8fd54c377')\"\n",
              "              title=\"Convert this dataframe to an interactive table.\"\n",
              "              style=\"display:none;\">\n",
              "        \n",
              "  <svg xmlns=\"http://www.w3.org/2000/svg\" height=\"24px\"viewBox=\"0 0 24 24\"\n",
              "       width=\"24px\">\n",
              "    <path d=\"M0 0h24v24H0V0z\" fill=\"none\"/>\n",
              "    <path d=\"M18.56 5.44l.94 2.06.94-2.06 2.06-.94-2.06-.94-.94-2.06-.94 2.06-2.06.94zm-11 1L8.5 8.5l.94-2.06 2.06-.94-2.06-.94L8.5 2.5l-.94 2.06-2.06.94zm10 10l.94 2.06.94-2.06 2.06-.94-2.06-.94-.94-2.06-.94 2.06-2.06.94z\"/><path d=\"M17.41 7.96l-1.37-1.37c-.4-.4-.92-.59-1.43-.59-.52 0-1.04.2-1.43.59L10.3 9.45l-7.72 7.72c-.78.78-.78 2.05 0 2.83L4 21.41c.39.39.9.59 1.41.59.51 0 1.02-.2 1.41-.59l7.78-7.78 2.81-2.81c.8-.78.8-2.07 0-2.86zM5.41 20L4 18.59l7.72-7.72 1.47 1.35L5.41 20z\"/>\n",
              "  </svg>\n",
              "      </button>\n",
              "      \n",
              "  <style>\n",
              "    .colab-df-container {\n",
              "      display:flex;\n",
              "      flex-wrap:wrap;\n",
              "      gap: 12px;\n",
              "    }\n",
              "\n",
              "    .colab-df-convert {\n",
              "      background-color: #E8F0FE;\n",
              "      border: none;\n",
              "      border-radius: 50%;\n",
              "      cursor: pointer;\n",
              "      display: none;\n",
              "      fill: #1967D2;\n",
              "      height: 32px;\n",
              "      padding: 0 0 0 0;\n",
              "      width: 32px;\n",
              "    }\n",
              "\n",
              "    .colab-df-convert:hover {\n",
              "      background-color: #E2EBFA;\n",
              "      box-shadow: 0px 1px 2px rgba(60, 64, 67, 0.3), 0px 1px 3px 1px rgba(60, 64, 67, 0.15);\n",
              "      fill: #174EA6;\n",
              "    }\n",
              "\n",
              "    [theme=dark] .colab-df-convert {\n",
              "      background-color: #3B4455;\n",
              "      fill: #D2E3FC;\n",
              "    }\n",
              "\n",
              "    [theme=dark] .colab-df-convert:hover {\n",
              "      background-color: #434B5C;\n",
              "      box-shadow: 0px 1px 3px 1px rgba(0, 0, 0, 0.15);\n",
              "      filter: drop-shadow(0px 1px 2px rgba(0, 0, 0, 0.3));\n",
              "      fill: #FFFFFF;\n",
              "    }\n",
              "  </style>\n",
              "\n",
              "      <script>\n",
              "        const buttonEl =\n",
              "          document.querySelector('#df-7fc3dd3b-f336-4261-aabf-67e8fd54c377 button.colab-df-convert');\n",
              "        buttonEl.style.display =\n",
              "          google.colab.kernel.accessAllowed ? 'block' : 'none';\n",
              "\n",
              "        async function convertToInteractive(key) {\n",
              "          const element = document.querySelector('#df-7fc3dd3b-f336-4261-aabf-67e8fd54c377');\n",
              "          const dataTable =\n",
              "            await google.colab.kernel.invokeFunction('convertToInteractive',\n",
              "                                                     [key], {});\n",
              "          if (!dataTable) return;\n",
              "\n",
              "          const docLinkHtml = 'Like what you see? Visit the ' +\n",
              "            '<a target=\"_blank\" href=https://colab.research.google.com/notebooks/data_table.ipynb>data table notebook</a>'\n",
              "            + ' to learn more about interactive tables.';\n",
              "          element.innerHTML = '';\n",
              "          dataTable['output_type'] = 'display_data';\n",
              "          await google.colab.output.renderOutput(dataTable, element);\n",
              "          const docLink = document.createElement('div');\n",
              "          docLink.innerHTML = docLinkHtml;\n",
              "          element.appendChild(docLink);\n",
              "        }\n",
              "      </script>\n",
              "    </div>\n",
              "  </div>\n",
              "  "
            ]
          },
          "metadata": {},
          "execution_count": 29
        }
      ]
    },
    {
      "cell_type": "code",
      "source": [
        "#Create matrix\n",
        "X= df.values[:,0:19]\n",
        "Y= df.values[:, 19]"
      ],
      "metadata": {
        "id": "NI0PAKnFgKmO"
      },
      "execution_count": 30,
      "outputs": []
    },
    {
      "cell_type": "code",
      "source": [
        "#Preprocessing Data\n",
        "X= preprocessing.scale(X)\n",
        "X"
      ],
      "metadata": {
        "colab": {
          "base_uri": "https://localhost:8080/"
        },
        "id": "-Dj9JEoDgSAf",
        "outputId": "71db4a44-1893-475d-864e-e79975031ee8"
      },
      "execution_count": 31,
      "outputs": [
        {
          "output_type": "execute_result",
          "data": {
            "text/plain": [
              "array([[ 0.29889263, -0.26147045,  0.2174012 , ..., -0.78813999,\n",
              "        -0.69806151,  0.07651455],\n",
              "       [ 0.29889263, -0.26147045,  1.36599262, ...,  0.48376045,\n",
              "        -0.69806151,  0.07651455],\n",
              "       [-1.62897546, -0.26147045,  1.36599262, ..., -0.78813999,\n",
              "         1.43253851, -1.46119479],\n",
              "       ...,\n",
              "       [ 0.29889263, -0.26147045,  1.36599262, ...,  1.75566089,\n",
              "        -0.69806151,  0.07651455],\n",
              "       [ 0.29889263, -0.26147045, -0.93119021, ..., -0.78813999,\n",
              "         1.43253851,  0.07651455],\n",
              "       [ 0.29889263, -0.26147045,  0.2174012 , ..., -0.78813999,\n",
              "        -0.69806151,  0.07651455]])"
            ]
          },
          "metadata": {},
          "execution_count": 31
        }
      ]
    },
    {
      "cell_type": "code",
      "source": [
        "# Split data X,Y to train and test\n",
        "X_train, X_test, y_train, y_test = train_test_split(X, Y, test_size = 0.30, random_state = 100)"
      ],
      "metadata": {
        "id": "KB640U_bhJHB"
      },
      "execution_count": 32,
      "outputs": []
    },
    {
      "cell_type": "code",
      "source": [
        "#Create model using Random Forest Regression\n",
        "rfr = RandomForestRegressor()\n",
        "rfr.fit(X_train,y_train)"
      ],
      "metadata": {
        "colab": {
          "base_uri": "https://localhost:8080/"
        },
        "id": "b_uWjbaPh5JB",
        "outputId": "03ef3a6f-e902-43a0-ab15-2bf9f3c99871"
      },
      "execution_count": 33,
      "outputs": [
        {
          "output_type": "execute_result",
          "data": {
            "text/plain": [
              "RandomForestRegressor()"
            ]
          },
          "metadata": {},
          "execution_count": 33
        }
      ]
    },
    {
      "cell_type": "code",
      "source": [
        "#Checking Accuracy model \n",
        "score = rfr.score(X_train,y_train)\n",
        "score"
      ],
      "metadata": {
        "colab": {
          "base_uri": "https://localhost:8080/"
        },
        "id": "rfAplf-7iT3X",
        "outputId": "46d8fffc-9012-4045-cfee-016c6eff0a37"
      },
      "execution_count": 34,
      "outputs": [
        {
          "output_type": "execute_result",
          "data": {
            "text/plain": [
              "0.999974137620424"
            ]
          },
          "metadata": {},
          "execution_count": 34
        }
      ]
    },
    {
      "cell_type": "markdown",
      "source": [
        "# how you will approach to deploy the model to cloud-based"
      ],
      "metadata": {
        "id": "UaPKzAp9jGHG"
      }
    },
    {
      "cell_type": "markdown",
      "source": [
        "\n",
        "\n",
        "1.   Doing selection data in cleansing process with the specific time frame only \n",
        "2.   Using framework with schedulling and trigerring action\n",
        "\n"
      ],
      "metadata": {
        "id": "4i19XjJ3ju0O"
      }
    }
  ]
}